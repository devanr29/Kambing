{
 "cells": [
  {
   "cell_type": "code",
   "execution_count": 1,
   "metadata": {},
   "outputs": [
    {
     "ename": "ModuleNotFoundError",
     "evalue": "No module named 'tensorflow.python'",
     "output_type": "error",
     "traceback": [
      "\u001b[1;31m---------------------------------------------------------------------------\u001b[0m",
      "\u001b[1;31mModuleNotFoundError\u001b[0m                       Traceback (most recent call last)",
      "Cell \u001b[1;32mIn[1], line 15\u001b[0m\n\u001b[0;32m     13\u001b[0m \u001b[38;5;28;01mfrom\u001b[39;00m \u001b[38;5;21;01msklearn\u001b[39;00m\u001b[38;5;21;01m.\u001b[39;00m\u001b[38;5;21;01mensemble\u001b[39;00m \u001b[38;5;28;01mimport\u001b[39;00m RandomForestClassifier, GradientBoostingClassifier, AdaBoostClassifier, StackingClassifier\n\u001b[0;32m     14\u001b[0m \u001b[38;5;28;01mfrom\u001b[39;00m \u001b[38;5;21;01mscipy\u001b[39;00m\u001b[38;5;21;01m.\u001b[39;00m\u001b[38;5;21;01mstats\u001b[39;00m \u001b[38;5;28;01mimport\u001b[39;00m boxcox\n\u001b[1;32m---> 15\u001b[0m \u001b[38;5;28;01mimport\u001b[39;00m \u001b[38;5;21;01mtensorflow\u001b[39;00m \u001b[38;5;28;01mas\u001b[39;00m \u001b[38;5;21;01mtf\u001b[39;00m\n\u001b[0;32m     16\u001b[0m \u001b[38;5;28;01mimport\u001b[39;00m \u001b[38;5;21;01mtensorflow_decision_forests\u001b[39;00m \u001b[38;5;28;01mas\u001b[39;00m \u001b[38;5;21;01mtfdf\u001b[39;00m\n\u001b[0;32m     19\u001b[0m \u001b[38;5;28;01mfrom\u001b[39;00m \u001b[38;5;21;01msklearn\u001b[39;00m\u001b[38;5;21;01m.\u001b[39;00m\u001b[38;5;21;01mimpute\u001b[39;00m \u001b[38;5;28;01mimport\u001b[39;00m SimpleImputer\n",
      "File \u001b[1;32m~\\AppData\\Local\\Packages\\PythonSoftwareFoundation.Python.3.9_qbz5n2kfra8p0\\LocalCache\\local-packages\\Python39\\site-packages\\tensorflow\\__init__.py:39\u001b[0m\n\u001b[0;32m     36\u001b[0m \u001b[38;5;28;01mimport\u001b[39;00m \u001b[38;5;21;01msys\u001b[39;00m \u001b[38;5;28;01mas\u001b[39;00m \u001b[38;5;21;01m_sys\u001b[39;00m\n\u001b[0;32m     37\u001b[0m \u001b[38;5;28;01mimport\u001b[39;00m \u001b[38;5;21;01mtyping\u001b[39;00m \u001b[38;5;28;01mas\u001b[39;00m \u001b[38;5;21;01m_typing\u001b[39;00m\n\u001b[1;32m---> 39\u001b[0m \u001b[38;5;28;01mfrom\u001b[39;00m \u001b[38;5;21;01mtensorflow\u001b[39;00m\u001b[38;5;21;01m.\u001b[39;00m\u001b[38;5;21;01mpython\u001b[39;00m\u001b[38;5;21;01m.\u001b[39;00m\u001b[38;5;21;01mtools\u001b[39;00m \u001b[38;5;28;01mimport\u001b[39;00m module_util \u001b[38;5;28;01mas\u001b[39;00m _module_util\n\u001b[0;32m     40\u001b[0m \u001b[38;5;28;01mfrom\u001b[39;00m \u001b[38;5;21;01mtensorflow\u001b[39;00m\u001b[38;5;21;01m.\u001b[39;00m\u001b[38;5;21;01mpython\u001b[39;00m\u001b[38;5;21;01m.\u001b[39;00m\u001b[38;5;21;01mutil\u001b[39;00m\u001b[38;5;21;01m.\u001b[39;00m\u001b[38;5;21;01mlazy_loader\u001b[39;00m \u001b[38;5;28;01mimport\u001b[39;00m LazyLoader \u001b[38;5;28;01mas\u001b[39;00m _LazyLoader\n\u001b[0;32m     41\u001b[0m \u001b[38;5;28;01mfrom\u001b[39;00m \u001b[38;5;21;01mtensorflow\u001b[39;00m\u001b[38;5;21;01m.\u001b[39;00m\u001b[38;5;21;01mpython\u001b[39;00m\u001b[38;5;21;01m.\u001b[39;00m\u001b[38;5;21;01mutil\u001b[39;00m\u001b[38;5;21;01m.\u001b[39;00m\u001b[38;5;21;01mlazy_loader\u001b[39;00m \u001b[38;5;28;01mimport\u001b[39;00m KerasLazyLoader \u001b[38;5;28;01mas\u001b[39;00m _KerasLazyLoader\n",
      "\u001b[1;31mModuleNotFoundError\u001b[0m: No module named 'tensorflow.python'"
     ]
    }
   ],
   "source": [
    "import numpy as np\n",
    "import pandas as pd\n",
    "from sklearn.ensemble import RandomForestClassifier\n",
    "import matplotlib.pyplot as plt\n",
    "import plotly.express as px\n",
    "import seaborn as sns\n",
    "from sklearn.impute import SimpleImputer\n",
    "from sklearn.svm import SVC\n",
    "from sklearn.naive_bayes import GaussianNB\n",
    "from sklearn.linear_model import LogisticRegression, Lasso\n",
    "from sklearn.neighbors import KNeighborsClassifier\n",
    "from sklearn.tree import DecisionTreeClassifier\n",
    "from sklearn.ensemble import RandomForestClassifier, GradientBoostingClassifier, AdaBoostClassifier, StackingClassifier\n",
    "from scipy.stats import boxcox\n",
    "import tensorflow as tf\n",
    "import tensorflow_decision_forests as tfdf\n",
    "\n",
    "\n",
    "from sklearn.impute import SimpleImputer\n",
    "from sklearn.model_selection import train_test_split, GridSearchCV, RandomizedSearchCV\n",
    "from sklearn.metrics import accuracy_score, f1_score, recall_score, precision_score, confusion_matrix\n",
    "from sklearn.preprocessing import LabelEncoder, OneHotEncoder, StandardScaler, MinMaxScaler\n"
   ]
  },
  {
   "cell_type": "code",
   "execution_count": 161,
   "metadata": {},
   "outputs": [],
   "source": [
    "df = pd.read_csv(\"data_sintetis_kambing_timestamp2.csv\")"
   ]
  },
  {
   "cell_type": "code",
   "execution_count": 162,
   "metadata": {},
   "outputs": [
    {
     "data": {
      "text/html": [
       "<div>\n",
       "<style scoped>\n",
       "    .dataframe tbody tr th:only-of-type {\n",
       "        vertical-align: middle;\n",
       "    }\n",
       "\n",
       "    .dataframe tbody tr th {\n",
       "        vertical-align: top;\n",
       "    }\n",
       "\n",
       "    .dataframe thead th {\n",
       "        text-align: right;\n",
       "    }\n",
       "</style>\n",
       "<table border=\"1\" class=\"dataframe\">\n",
       "  <thead>\n",
       "    <tr style=\"text-align: right;\">\n",
       "      <th></th>\n",
       "      <th>Timestamp</th>\n",
       "      <th>Suhu</th>\n",
       "      <th>Saturasi_Oksigen</th>\n",
       "      <th>Detak_Jantung</th>\n",
       "    </tr>\n",
       "  </thead>\n",
       "  <tbody>\n",
       "    <tr>\n",
       "      <th>0</th>\n",
       "      <td>2024-01-24 17:46:35.523776</td>\n",
       "      <td>38.741186</td>\n",
       "      <td>95.621099</td>\n",
       "      <td>73.898547</td>\n",
       "    </tr>\n",
       "    <tr>\n",
       "      <th>1</th>\n",
       "      <td>2024-01-24 17:47:35.523776</td>\n",
       "      <td>38.429235</td>\n",
       "      <td>95.396557</td>\n",
       "      <td>76.994027</td>\n",
       "    </tr>\n",
       "    <tr>\n",
       "      <th>2</th>\n",
       "      <td>2024-01-24 17:48:35.523776</td>\n",
       "      <td>38.827059</td>\n",
       "      <td>90.394797</td>\n",
       "      <td>72.301569</td>\n",
       "    </tr>\n",
       "    <tr>\n",
       "      <th>3</th>\n",
       "      <td>2024-01-24 17:49:35.523776</td>\n",
       "      <td>39.308858</td>\n",
       "      <td>96.408662</td>\n",
       "      <td>81.094074</td>\n",
       "    </tr>\n",
       "    <tr>\n",
       "      <th>4</th>\n",
       "      <td>2024-01-24 17:50:35.523776</td>\n",
       "      <td>38.345562</td>\n",
       "      <td>91.262581</td>\n",
       "      <td>93.935152</td>\n",
       "    </tr>\n",
       "    <tr>\n",
       "      <th>...</th>\n",
       "      <td>...</td>\n",
       "      <td>...</td>\n",
       "      <td>...</td>\n",
       "      <td>...</td>\n",
       "    </tr>\n",
       "    <tr>\n",
       "      <th>4995</th>\n",
       "      <td>2024-01-28 05:01:35.531369</td>\n",
       "      <td>38.494909</td>\n",
       "      <td>94.484097</td>\n",
       "      <td>68.594328</td>\n",
       "    </tr>\n",
       "    <tr>\n",
       "      <th>4996</th>\n",
       "      <td>2024-01-28 05:02:35.531369</td>\n",
       "      <td>38.924574</td>\n",
       "      <td>92.139203</td>\n",
       "      <td>98.149926</td>\n",
       "    </tr>\n",
       "    <tr>\n",
       "      <th>4997</th>\n",
       "      <td>2024-01-28 05:03:35.531369</td>\n",
       "      <td>40.075373</td>\n",
       "      <td>97.198020</td>\n",
       "      <td>91.116611</td>\n",
       "    </tr>\n",
       "    <tr>\n",
       "      <th>4998</th>\n",
       "      <td>2024-01-28 05:04:35.531369</td>\n",
       "      <td>38.989695</td>\n",
       "      <td>97.366845</td>\n",
       "      <td>63.589481</td>\n",
       "    </tr>\n",
       "    <tr>\n",
       "      <th>4999</th>\n",
       "      <td>2024-01-28 05:05:35.531369</td>\n",
       "      <td>37.994971</td>\n",
       "      <td>95.691142</td>\n",
       "      <td>77.546612</td>\n",
       "    </tr>\n",
       "  </tbody>\n",
       "</table>\n",
       "<p>5000 rows × 4 columns</p>\n",
       "</div>"
      ],
      "text/plain": [
       "                       Timestamp       Suhu  Saturasi_Oksigen  Detak_Jantung\n",
       "0     2024-01-24 17:46:35.523776  38.741186         95.621099      73.898547\n",
       "1     2024-01-24 17:47:35.523776  38.429235         95.396557      76.994027\n",
       "2     2024-01-24 17:48:35.523776  38.827059         90.394797      72.301569\n",
       "3     2024-01-24 17:49:35.523776  39.308858         96.408662      81.094074\n",
       "4     2024-01-24 17:50:35.523776  38.345562         91.262581      93.935152\n",
       "...                          ...        ...               ...            ...\n",
       "4995  2024-01-28 05:01:35.531369  38.494909         94.484097      68.594328\n",
       "4996  2024-01-28 05:02:35.531369  38.924574         92.139203      98.149926\n",
       "4997  2024-01-28 05:03:35.531369  40.075373         97.198020      91.116611\n",
       "4998  2024-01-28 05:04:35.531369  38.989695         97.366845      63.589481\n",
       "4999  2024-01-28 05:05:35.531369  37.994971         95.691142      77.546612\n",
       "\n",
       "[5000 rows x 4 columns]"
      ]
     },
     "execution_count": 162,
     "metadata": {},
     "output_type": "execute_result"
    }
   ],
   "source": [
    "df"
   ]
  },
  {
   "cell_type": "code",
   "execution_count": 163,
   "metadata": {},
   "outputs": [
    {
     "name": "stdout",
     "output_type": "stream",
     "text": [
      "Duplicate values in training data is:  0\n",
      "Duplicate values in testing data is:  0\n"
     ]
    }
   ],
   "source": [
    "print(\"Duplicate values in training data is: \",df.duplicated().sum())\n",
    "print(\"Duplicate values in testing data is: \",df.duplicated().sum())\n"
   ]
  },
  {
   "cell_type": "code",
   "execution_count": 164,
   "metadata": {},
   "outputs": [
    {
     "name": "stdout",
     "output_type": "stream",
     "text": [
      "<class 'pandas.core.frame.DataFrame'>\n",
      "RangeIndex: 5000 entries, 0 to 4999\n",
      "Data columns (total 4 columns):\n",
      " #   Column            Non-Null Count  Dtype  \n",
      "---  ------            --------------  -----  \n",
      " 0   Timestamp         5000 non-null   object \n",
      " 1   Suhu              5000 non-null   float64\n",
      " 2   Saturasi_Oksigen  5000 non-null   float64\n",
      " 3   Detak_Jantung     5000 non-null   float64\n",
      "dtypes: float64(3), object(1)\n",
      "memory usage: 156.4+ KB\n"
     ]
    }
   ],
   "source": [
    "df.info()"
   ]
  },
  {
   "cell_type": "code",
   "execution_count": 165,
   "metadata": {},
   "outputs": [
    {
     "data": {
      "text/html": [
       "<div>\n",
       "<style scoped>\n",
       "    .dataframe tbody tr th:only-of-type {\n",
       "        vertical-align: middle;\n",
       "    }\n",
       "\n",
       "    .dataframe tbody tr th {\n",
       "        vertical-align: top;\n",
       "    }\n",
       "\n",
       "    .dataframe thead th {\n",
       "        text-align: right;\n",
       "    }\n",
       "</style>\n",
       "<table border=\"1\" class=\"dataframe\">\n",
       "  <thead>\n",
       "    <tr style=\"text-align: right;\">\n",
       "      <th></th>\n",
       "      <th>Suhu</th>\n",
       "      <th>Saturasi_Oksigen</th>\n",
       "      <th>Detak_Jantung</th>\n",
       "    </tr>\n",
       "  </thead>\n",
       "  <tbody>\n",
       "    <tr>\n",
       "      <th>count</th>\n",
       "      <td>5000.000000</td>\n",
       "      <td>5000.000000</td>\n",
       "      <td>5000.000000</td>\n",
       "    </tr>\n",
       "    <tr>\n",
       "      <th>mean</th>\n",
       "      <td>38.503627</td>\n",
       "      <td>94.935069</td>\n",
       "      <td>80.079237</td>\n",
       "    </tr>\n",
       "    <tr>\n",
       "      <th>std</th>\n",
       "      <td>0.500830</td>\n",
       "      <td>3.114019</td>\n",
       "      <td>10.672354</td>\n",
       "    </tr>\n",
       "    <tr>\n",
       "      <th>min</th>\n",
       "      <td>36.841940</td>\n",
       "      <td>82.975529</td>\n",
       "      <td>41.806179</td>\n",
       "    </tr>\n",
       "    <tr>\n",
       "      <th>25%</th>\n",
       "      <td>38.168283</td>\n",
       "      <td>92.776312</td>\n",
       "      <td>73.100300</td>\n",
       "    </tr>\n",
       "    <tr>\n",
       "      <th>50%</th>\n",
       "      <td>38.510045</td>\n",
       "      <td>94.946818</td>\n",
       "      <td>79.864580</td>\n",
       "    </tr>\n",
       "    <tr>\n",
       "      <th>75%</th>\n",
       "      <td>38.839727</td>\n",
       "      <td>97.054008</td>\n",
       "      <td>87.342299</td>\n",
       "    </tr>\n",
       "    <tr>\n",
       "      <th>max</th>\n",
       "      <td>40.461713</td>\n",
       "      <td>106.205655</td>\n",
       "      <td>120.817519</td>\n",
       "    </tr>\n",
       "  </tbody>\n",
       "</table>\n",
       "</div>"
      ],
      "text/plain": [
       "              Suhu  Saturasi_Oksigen  Detak_Jantung\n",
       "count  5000.000000       5000.000000    5000.000000\n",
       "mean     38.503627         94.935069      80.079237\n",
       "std       0.500830          3.114019      10.672354\n",
       "min      36.841940         82.975529      41.806179\n",
       "25%      38.168283         92.776312      73.100300\n",
       "50%      38.510045         94.946818      79.864580\n",
       "75%      38.839727         97.054008      87.342299\n",
       "max      40.461713        106.205655     120.817519"
      ]
     },
     "execution_count": 165,
     "metadata": {},
     "output_type": "execute_result"
    }
   ],
   "source": [
    "df.describe()"
   ]
  },
  {
   "cell_type": "code",
   "execution_count": 166,
   "metadata": {},
   "outputs": [],
   "source": [
    "train,test = train_test_split(df, test_size=0.3, random_state=1 )"
   ]
  },
  {
   "cell_type": "code",
   "execution_count": 167,
   "metadata": {},
   "outputs": [],
   "source": [
    "def kategori_kambing(row):\n",
    "    if (38.5 <= row['Suhu'] <= 40) and (70 <= row['Detak_Jantung'] <= 90) and (95 <= row['Saturasi_Oksigen'] <= 100):\n",
    "        return 'Sehat'\n",
    "    elif (38.5 >= row['Suhu'] or row['Suhu'] >= 40) and (70 >= row['Detak_Jantung'] or row['Detak_Jantung'] >= 90) and (95 >= row['Saturasi_Oksigen'] or row['Saturasi_Oksigen'] >= 100):\n",
    "        return 'Suhu,detak jantung, dan saturasi oksigen tidak normal'\n",
    "    elif (38.5 >=row['Suhu'] or 40 <= row['Suhu']) and (70 >= row['Detak_Jantung'] or 90 <= row['Detak_Jantung']):\n",
    "        return 'Suhu dan detak jantung tidak normal'\n",
    "    elif (38.5 >=row['Suhu'] or 40 <= row['Suhu']) and (95 >=row['Saturasi_Oksigen'] or 100 <= row['Saturasi_Oksigen']):\n",
    "        return 'Suhu dan saturasi oksigen tidak normal'\n",
    "    elif (38.5 >=row['Suhu'] or 40 <= row['Suhu']):\n",
    "        return 'Suhu tidak normal'\n",
    "    elif (70 >=row['Detak_Jantung'] or 90 <= row['Detak_Jantung']) and (95 >=row['Saturasi_Oksigen'] or 100 <= row['Saturasi_Oksigen']):\n",
    "        return 'Detak jantung dan saturasi oksigen tidak normal'\n",
    "    elif  (70 >=row['Detak_Jantung'] or 90 <= row['Detak_Jantung']):\n",
    "        return 'Detak Jantung tidak normal'\n",
    "    elif (95 >=row['Saturasi_Oksigen'] or 100 <= row['Saturasi_Oksigen']):\n",
    "        return 'Saturasi oksigen tidak normal'\n",
    "    else:\n",
    "        return '-'\n",
    "\n",
    "# Menambahkan kolom kategori\n",
    "train['Kategori'] = train.apply(kategori_kambing, axis=1)"
   ]
  },
  {
   "cell_type": "code",
   "execution_count": 168,
   "metadata": {},
   "outputs": [
    {
     "name": "stdout",
     "output_type": "stream",
     "text": [
      "<class 'pandas.core.frame.DataFrame'>\n",
      "Index: 3500 entries, 1334 to 235\n",
      "Data columns (total 5 columns):\n",
      " #   Column            Non-Null Count  Dtype  \n",
      "---  ------            --------------  -----  \n",
      " 0   Timestamp         3500 non-null   object \n",
      " 1   Suhu              3500 non-null   float64\n",
      " 2   Saturasi_Oksigen  3500 non-null   float64\n",
      " 3   Detak_Jantung     3500 non-null   float64\n",
      " 4   Kategori          3500 non-null   object \n",
      "dtypes: float64(3), object(2)\n",
      "memory usage: 164.1+ KB\n"
     ]
    }
   ],
   "source": [
    "train.info()"
   ]
  },
  {
   "cell_type": "code",
   "execution_count": 169,
   "metadata": {},
   "outputs": [
    {
     "name": "stdout",
     "output_type": "stream",
     "text": [
      "<class 'pandas.core.frame.DataFrame'>\n",
      "Index: 1500 entries, 2764 to 1458\n",
      "Data columns (total 4 columns):\n",
      " #   Column            Non-Null Count  Dtype  \n",
      "---  ------            --------------  -----  \n",
      " 0   Timestamp         1500 non-null   object \n",
      " 1   Suhu              1500 non-null   float64\n",
      " 2   Saturasi_Oksigen  1500 non-null   float64\n",
      " 3   Detak_Jantung     1500 non-null   float64\n",
      "dtypes: float64(3), object(1)\n",
      "memory usage: 58.6+ KB\n"
     ]
    }
   ],
   "source": [
    "test.info()"
   ]
  },
  {
   "cell_type": "code",
   "execution_count": 170,
   "metadata": {},
   "outputs": [
    {
     "data": {
      "text/plain": [
       "1180     42.635544\n",
       "3582     44.755934\n",
       "1393     45.600601\n",
       "1486     46.161941\n",
       "217      46.215607\n",
       "           ...    \n",
       "4912    111.967199\n",
       "1628    115.588220\n",
       "1338    115.681044\n",
       "3225    115.760709\n",
       "1464    120.817519\n",
       "Name: Detak_Jantung, Length: 3500, dtype: float64"
      ]
     },
     "execution_count": 170,
     "metadata": {},
     "output_type": "execute_result"
    }
   ],
   "source": [
    "train['Detak_Jantung'].sort_values(ascending=True)"
   ]
  },
  {
   "cell_type": "code",
   "execution_count": 171,
   "metadata": {},
   "outputs": [],
   "source": [
    "jumlah_suhu_ideal = ((train['Suhu'] >= 38.5) & (train['Suhu'] <= 40)).sum()\n",
    "jumlah_sat_ideal = ((train['Saturasi_Oksigen'] >= 95) & (train['Suhu'] <= 100)).sum()\n",
    "jumlah_detak_ideal = ((train['Detak_Jantung'] >= 70) & (train['Detak_Jantung'] <= 90)).sum()"
   ]
  },
  {
   "cell_type": "code",
   "execution_count": 172,
   "metadata": {},
   "outputs": [
    {
     "name": "stdout",
     "output_type": "stream",
     "text": [
      "Jumlah suhu ideal di data 1724 Jumlah saturasi ideal di data 1749 jumlah_detak_ideal didata 2289\n"
     ]
    }
   ],
   "source": [
    "print(\"Jumlah suhu ideal di data\",jumlah_suhu_ideal,\"Jumlah saturasi ideal di data\",jumlah_sat_ideal,\"jumlah_detak_ideal didata\",jumlah_detak_ideal)"
   ]
  },
  {
   "cell_type": "code",
   "execution_count": 173,
   "metadata": {},
   "outputs": [],
   "source": [
    "sensor = ['Suhu', 'Saturasi_Oksigen', 'Detak_Jantung']"
   ]
  },
  {
   "cell_type": "code",
   "execution_count": 174,
   "metadata": {},
   "outputs": [
    {
     "data": {
      "image/png": "[encoded data removed]",
      "text/plain": [
       "<Figure size 1200x900 with 2 Axes>"
      ]
     },
     "metadata": {},
     "output_type": "display_data"
    }
   ],
   "source": [
    "corrmat = train[sensor].corr()\n",
    "f, ax = plt.subplots(figsize=(12, 9))\n",
    "sns.heatmap(corrmat, vmax=.8, square=True);"
   ]
  },
  {
   "cell_type": "code",
   "execution_count": 175,
   "metadata": {},
   "outputs": [
    {
     "data": {
      "image/png": "[encoded data removed]",
      "text/plain": [
       "<Figure size 1000x1000 with 1 Axes>"
      ]
     },
     "metadata": {},
     "output_type": "display_data"
    }
   ],
   "source": [
    "plt.figure(figsize=(10, 10))\n",
    "train.boxplot(column=['Suhu'])\n",
    "\n",
    "# Menambahkan label\n",
    "plt.title('Boxplot Persebaran Data')\n",
    "plt.ylabel('Nilai')\n",
    "\n",
    "# Tampilkan boxplot\n",
    "plt.show()"
   ]
  },
  {
   "cell_type": "code",
   "execution_count": 176,
   "metadata": {},
   "outputs": [
    {
     "data": {
      "image/png": "[encoded data removed]",
      "text/plain": [
       "<Figure size 1000x1000 with 1 Axes>"
      ]
     },
     "metadata": {},
     "output_type": "display_data"
    }
   ],
   "source": [
    "plt.figure(figsize=(10, 10))\n",
    "train.boxplot(column=['Detak_Jantung'])\n",
    "\n",
    "# Menambahkan label\n",
    "plt.title('Boxplot Persebaran Data')\n",
    "plt.ylabel('Nilai')\n",
    "\n",
    "# Tampilkan boxplot\n",
    "plt.show()"
   ]
  },
  {
   "cell_type": "code",
   "execution_count": 177,
   "metadata": {},
   "outputs": [
    {
     "data": {
      "image/png": "[encoded data removed]",
      "text/plain": [
       "<Figure size 1000x1000 with 1 Axes>"
      ]
     },
     "metadata": {},
     "output_type": "display_data"
    }
   ],
   "source": [
    "plt.figure(figsize=(10, 10))\n",
    "train.boxplot(column=['Saturasi_Oksigen'])\n",
    "\n",
    "# Menambahkan label\n",
    "plt.title('Boxplot Persebaran Data')\n",
    "plt.ylabel('Nilai')\n",
    "\n",
    "# Tampilkan boxplot\n",
    "plt.show()"
   ]
  },
  {
   "cell_type": "code",
   "execution_count": 178,
   "metadata": {},
   "outputs": [
    {
     "data": {
      "image/png": "[encoded data removed]",
      "text/plain": [
       "<Figure size 800x600 with 1 Axes>"
      ]
     },
     "metadata": {},
     "output_type": "display_data"
    }
   ],
   "source": [
    "plt.figure(figsize=(8, 6))\n",
    "sns.histplot(train['Saturasi_Oksigen'], kde=True, color='skyblue')\n",
    "plt.title('Distribusi Data Kolom \"co\"')\n",
    "plt.xlabel('Nilai \"co\"')\n",
    "plt.ylabel('Frekuensi')\n",
    "plt.show()"
   ]
  },
  {
   "cell_type": "code",
   "execution_count": 179,
   "metadata": {},
   "outputs": [
    {
     "data": {
      "text/plain": [
       "Suhu                0.031675\n",
       "Saturasi_Oksigen   -0.038905\n",
       "Detak_Jantung      -0.006554\n",
       "dtype: float64"
      ]
     },
     "execution_count": 179,
     "metadata": {},
     "output_type": "execute_result"
    }
   ],
   "source": [
    "train[sensor].skew()"
   ]
  },
  {
   "cell_type": "code",
   "execution_count": 180,
   "metadata": {},
   "outputs": [],
   "source": [
    "def outlierr(column_name):\n",
    "    Q1=train[column_name].quantile(0.25)\n",
    "    Q3=train[column_name].quantile(0.75)\n",
    "    IQR=Q3-Q1\n",
    "    print(Q1)\n",
    "    print(Q3)\n",
    "    print(IQR)\n",
    "    Lower_Whisker = Q1-1.5*IQR\n",
    "    Upper_Whisker = Q3+1.5*IQR\n",
    "    print(Lower_Whisker, Upper_Whisker)"
   ]
  },
  {
   "cell_type": "code",
   "execution_count": 181,
   "metadata": {},
   "outputs": [],
   "source": [
    "def outlieratas(column_name):\n",
    "    Q1=df[column_name].quantile(0.25)\n",
    "    Q3=df[column_name].quantile(0.75)\n",
    "    IQR=Q3-Q1\n",
    "    Upper_Whisker = Q3+1.5*IQR\n",
    "    return Upper_Whisker\n"
   ]
  },
  {
   "cell_type": "code",
   "execution_count": 182,
   "metadata": {},
   "outputs": [],
   "source": [
    "def outlierbawah(column_name):\n",
    "    Q1=df[column_name].quantile(0.25)\n",
    "    Q3=df[column_name].quantile(0.75)\n",
    "    IQR=Q3-Q1\n",
    "    Lower_Whisker = Q1-1.5*IQR\n",
    "    return Lower_Whisker"
   ]
  },
  {
   "cell_type": "code",
   "execution_count": 183,
   "metadata": {},
   "outputs": [
    {
     "data": {
      "text/html": [
       "<div>\n",
       "<style scoped>\n",
       "    .dataframe tbody tr th:only-of-type {\n",
       "        vertical-align: middle;\n",
       "    }\n",
       "\n",
       "    .dataframe tbody tr th {\n",
       "        vertical-align: top;\n",
       "    }\n",
       "\n",
       "    .dataframe thead th {\n",
       "        text-align: right;\n",
       "    }\n",
       "</style>\n",
       "<table border=\"1\" class=\"dataframe\">\n",
       "  <thead>\n",
       "    <tr style=\"text-align: right;\">\n",
       "      <th></th>\n",
       "      <th>Timestamp</th>\n",
       "      <th>Suhu</th>\n",
       "      <th>Saturasi_Oksigen</th>\n",
       "      <th>Detak_Jantung</th>\n",
       "      <th>Kategori</th>\n",
       "    </tr>\n",
       "  </thead>\n",
       "  <tbody>\n",
       "    <tr>\n",
       "      <th>2686</th>\n",
       "      <td>2024-01-26 14:32:35.527383</td>\n",
       "      <td>38.706192</td>\n",
       "      <td>96.584872</td>\n",
       "      <td>47.185791</td>\n",
       "      <td>Detak Jantung tidak normal</td>\n",
       "    </tr>\n",
       "    <tr>\n",
       "      <th>3540</th>\n",
       "      <td>2024-01-27 04:46:35.529411</td>\n",
       "      <td>38.663539</td>\n",
       "      <td>95.908643</td>\n",
       "      <td>49.470108</td>\n",
       "      <td>Detak Jantung tidak normal</td>\n",
       "    </tr>\n",
       "    <tr>\n",
       "      <th>3582</th>\n",
       "      <td>2024-01-27 05:28:35.529411</td>\n",
       "      <td>39.428769</td>\n",
       "      <td>94.562717</td>\n",
       "      <td>44.755934</td>\n",
       "      <td>Detak jantung dan saturasi oksigen tidak normal</td>\n",
       "    </tr>\n",
       "    <tr>\n",
       "      <th>3746</th>\n",
       "      <td>2024-01-27 08:12:35.529411</td>\n",
       "      <td>37.426297</td>\n",
       "      <td>96.640615</td>\n",
       "      <td>49.784131</td>\n",
       "      <td>Suhu dan detak jantung tidak normal</td>\n",
       "    </tr>\n",
       "    <tr>\n",
       "      <th>1747</th>\n",
       "      <td>2024-01-25 22:53:35.526334</td>\n",
       "      <td>38.838622</td>\n",
       "      <td>92.161679</td>\n",
       "      <td>51.534918</td>\n",
       "      <td>Detak jantung dan saturasi oksigen tidak normal</td>\n",
       "    </tr>\n",
       "    <tr>\n",
       "      <th>217</th>\n",
       "      <td>2024-01-24 21:23:35.523776</td>\n",
       "      <td>38.357230</td>\n",
       "      <td>94.498730</td>\n",
       "      <td>46.215607</td>\n",
       "      <td>Suhu,detak jantung, dan saturasi oksigen tidak...</td>\n",
       "    </tr>\n",
       "    <tr>\n",
       "      <th>1951</th>\n",
       "      <td>2024-01-26 02:17:35.527383</td>\n",
       "      <td>39.123517</td>\n",
       "      <td>99.460949</td>\n",
       "      <td>51.094599</td>\n",
       "      <td>Detak Jantung tidak normal</td>\n",
       "    </tr>\n",
       "    <tr>\n",
       "      <th>766</th>\n",
       "      <td>2024-01-25 06:32:35.525284</td>\n",
       "      <td>38.481712</td>\n",
       "      <td>95.380861</td>\n",
       "      <td>48.888275</td>\n",
       "      <td>Suhu dan detak jantung tidak normal</td>\n",
       "    </tr>\n",
       "    <tr>\n",
       "      <th>3436</th>\n",
       "      <td>2024-01-27 03:02:35.528333</td>\n",
       "      <td>38.796227</td>\n",
       "      <td>95.908831</td>\n",
       "      <td>50.687030</td>\n",
       "      <td>Detak Jantung tidak normal</td>\n",
       "    </tr>\n",
       "    <tr>\n",
       "      <th>980</th>\n",
       "      <td>2024-01-25 10:06:35.525284</td>\n",
       "      <td>38.792753</td>\n",
       "      <td>101.542490</td>\n",
       "      <td>51.518281</td>\n",
       "      <td>Detak jantung dan saturasi oksigen tidak normal</td>\n",
       "    </tr>\n",
       "    <tr>\n",
       "      <th>1180</th>\n",
       "      <td>2024-01-25 13:26:35.526334</td>\n",
       "      <td>38.589773</td>\n",
       "      <td>99.591995</td>\n",
       "      <td>42.635544</td>\n",
       "      <td>Detak Jantung tidak normal</td>\n",
       "    </tr>\n",
       "    <tr>\n",
       "      <th>1393</th>\n",
       "      <td>2024-01-25 16:59:35.526334</td>\n",
       "      <td>38.568826</td>\n",
       "      <td>92.537525</td>\n",
       "      <td>45.600601</td>\n",
       "      <td>Detak jantung dan saturasi oksigen tidak normal</td>\n",
       "    </tr>\n",
       "    <tr>\n",
       "      <th>2923</th>\n",
       "      <td>2024-01-26 18:29:35.528333</td>\n",
       "      <td>38.435748</td>\n",
       "      <td>96.629686</td>\n",
       "      <td>49.559824</td>\n",
       "      <td>Suhu dan detak jantung tidak normal</td>\n",
       "    </tr>\n",
       "    <tr>\n",
       "      <th>4114</th>\n",
       "      <td>2024-01-27 14:20:35.529411</td>\n",
       "      <td>39.295271</td>\n",
       "      <td>99.802607</td>\n",
       "      <td>51.149781</td>\n",
       "      <td>Detak Jantung tidak normal</td>\n",
       "    </tr>\n",
       "    <tr>\n",
       "      <th>1486</th>\n",
       "      <td>2024-01-25 18:32:35.526334</td>\n",
       "      <td>37.767017</td>\n",
       "      <td>93.634366</td>\n",
       "      <td>46.161941</td>\n",
       "      <td>Suhu,detak jantung, dan saturasi oksigen tidak...</td>\n",
       "    </tr>\n",
       "    <tr>\n",
       "      <th>1088</th>\n",
       "      <td>2024-01-25 11:54:35.526334</td>\n",
       "      <td>38.285507</td>\n",
       "      <td>99.401589</td>\n",
       "      <td>49.619913</td>\n",
       "      <td>Suhu dan detak jantung tidak normal</td>\n",
       "    </tr>\n",
       "    <tr>\n",
       "      <th>3562</th>\n",
       "      <td>2024-01-27 05:08:35.529411</td>\n",
       "      <td>37.313744</td>\n",
       "      <td>95.062466</td>\n",
       "      <td>51.123487</td>\n",
       "      <td>Suhu dan detak jantung tidak normal</td>\n",
       "    </tr>\n",
       "  </tbody>\n",
       "</table>\n",
       "</div>"
      ],
      "text/plain": [
       "                       Timestamp       Suhu  Saturasi_Oksigen  Detak_Jantung   \n",
       "2686  2024-01-26 14:32:35.527383  38.706192         96.584872      47.185791  \\\n",
       "3540  2024-01-27 04:46:35.529411  38.663539         95.908643      49.470108   \n",
       "3582  2024-01-27 05:28:35.529411  39.428769         94.562717      44.755934   \n",
       "3746  2024-01-27 08:12:35.529411  37.426297         96.640615      49.784131   \n",
       "1747  2024-01-25 22:53:35.526334  38.838622         92.161679      51.534918   \n",
       "217   2024-01-24 21:23:35.523776  38.357230         94.498730      46.215607   \n",
       "1951  2024-01-26 02:17:35.527383  39.123517         99.460949      51.094599   \n",
       "766   2024-01-25 06:32:35.525284  38.481712         95.380861      48.888275   \n",
       "3436  2024-01-27 03:02:35.528333  38.796227         95.908831      50.687030   \n",
       "980   2024-01-25 10:06:35.525284  38.792753        101.542490      51.518281   \n",
       "1180  2024-01-25 13:26:35.526334  38.589773         99.591995      42.635544   \n",
       "1393  2024-01-25 16:59:35.526334  38.568826         92.537525      45.600601   \n",
       "2923  2024-01-26 18:29:35.528333  38.435748         96.629686      49.559824   \n",
       "4114  2024-01-27 14:20:35.529411  39.295271         99.802607      51.149781   \n",
       "1486  2024-01-25 18:32:35.526334  37.767017         93.634366      46.161941   \n",
       "1088  2024-01-25 11:54:35.526334  38.285507         99.401589      49.619913   \n",
       "3562  2024-01-27 05:08:35.529411  37.313744         95.062466      51.123487   \n",
       "\n",
       "                                               Kategori  \n",
       "2686                         Detak Jantung tidak normal  \n",
       "3540                         Detak Jantung tidak normal  \n",
       "3582    Detak jantung dan saturasi oksigen tidak normal  \n",
       "3746                Suhu dan detak jantung tidak normal  \n",
       "1747    Detak jantung dan saturasi oksigen tidak normal  \n",
       "217   Suhu,detak jantung, dan saturasi oksigen tidak...  \n",
       "1951                         Detak Jantung tidak normal  \n",
       "766                 Suhu dan detak jantung tidak normal  \n",
       "3436                         Detak Jantung tidak normal  \n",
       "980     Detak jantung dan saturasi oksigen tidak normal  \n",
       "1180                         Detak Jantung tidak normal  \n",
       "1393    Detak jantung dan saturasi oksigen tidak normal  \n",
       "2923                Suhu dan detak jantung tidak normal  \n",
       "4114                         Detak Jantung tidak normal  \n",
       "1486  Suhu,detak jantung, dan saturasi oksigen tidak...  \n",
       "1088                Suhu dan detak jantung tidak normal  \n",
       "3562                Suhu dan detak jantung tidak normal  "
      ]
     },
     "execution_count": 183,
     "metadata": {},
     "output_type": "execute_result"
    }
   ],
   "source": [
    "train[train['Detak_Jantung']<outlierbawah('Detak_Jantung')]"
   ]
  },
  {
   "cell_type": "code",
   "execution_count": 184,
   "metadata": {},
   "outputs": [],
   "source": [
    "train = train[train['Detak_Jantung'] > outlierbawah('Detak_Jantung')]\n"
   ]
  },
  {
   "cell_type": "code",
   "execution_count": 185,
   "metadata": {},
   "outputs": [
    {
     "data": {
      "text/html": [
       "<div>\n",
       "<style scoped>\n",
       "    .dataframe tbody tr th:only-of-type {\n",
       "        vertical-align: middle;\n",
       "    }\n",
       "\n",
       "    .dataframe tbody tr th {\n",
       "        vertical-align: top;\n",
       "    }\n",
       "\n",
       "    .dataframe thead th {\n",
       "        text-align: right;\n",
       "    }\n",
       "</style>\n",
       "<table border=\"1\" class=\"dataframe\">\n",
       "  <thead>\n",
       "    <tr style=\"text-align: right;\">\n",
       "      <th></th>\n",
       "      <th>Timestamp</th>\n",
       "      <th>Suhu</th>\n",
       "      <th>Saturasi_Oksigen</th>\n",
       "      <th>Detak_Jantung</th>\n",
       "      <th>Kategori</th>\n",
       "    </tr>\n",
       "  </thead>\n",
       "  <tbody>\n",
       "    <tr>\n",
       "      <th>3748</th>\n",
       "      <td>2024-01-27 08:14:35.529411</td>\n",
       "      <td>39.249192</td>\n",
       "      <td>95.378791</td>\n",
       "      <td>110.246982</td>\n",
       "      <td>Detak Jantung tidak normal</td>\n",
       "    </tr>\n",
       "    <tr>\n",
       "      <th>1338</th>\n",
       "      <td>2024-01-25 16:04:35.526334</td>\n",
       "      <td>38.294869</td>\n",
       "      <td>96.519746</td>\n",
       "      <td>115.681044</td>\n",
       "      <td>Suhu dan detak jantung tidak normal</td>\n",
       "    </tr>\n",
       "    <tr>\n",
       "      <th>3225</th>\n",
       "      <td>2024-01-26 23:31:35.528333</td>\n",
       "      <td>37.951526</td>\n",
       "      <td>95.472057</td>\n",
       "      <td>115.760709</td>\n",
       "      <td>Suhu dan detak jantung tidak normal</td>\n",
       "    </tr>\n",
       "    <tr>\n",
       "      <th>581</th>\n",
       "      <td>2024-01-25 03:27:35.525284</td>\n",
       "      <td>38.306036</td>\n",
       "      <td>92.889748</td>\n",
       "      <td>110.321399</td>\n",
       "      <td>Suhu,detak jantung, dan saturasi oksigen tidak...</td>\n",
       "    </tr>\n",
       "    <tr>\n",
       "      <th>1611</th>\n",
       "      <td>2024-01-25 20:37:35.526334</td>\n",
       "      <td>37.700781</td>\n",
       "      <td>101.049332</td>\n",
       "      <td>109.178683</td>\n",
       "      <td>Suhu,detak jantung, dan saturasi oksigen tidak...</td>\n",
       "    </tr>\n",
       "    <tr>\n",
       "      <th>1226</th>\n",
       "      <td>2024-01-25 14:12:35.526334</td>\n",
       "      <td>38.612907</td>\n",
       "      <td>90.226628</td>\n",
       "      <td>110.662300</td>\n",
       "      <td>Detak jantung dan saturasi oksigen tidak normal</td>\n",
       "    </tr>\n",
       "    <tr>\n",
       "      <th>1628</th>\n",
       "      <td>2024-01-25 20:54:35.526334</td>\n",
       "      <td>38.605829</td>\n",
       "      <td>91.204370</td>\n",
       "      <td>115.588220</td>\n",
       "      <td>Detak jantung dan saturasi oksigen tidak normal</td>\n",
       "    </tr>\n",
       "    <tr>\n",
       "      <th>3948</th>\n",
       "      <td>2024-01-27 11:34:35.529411</td>\n",
       "      <td>38.326135</td>\n",
       "      <td>97.687902</td>\n",
       "      <td>108.854338</td>\n",
       "      <td>Suhu dan detak jantung tidak normal</td>\n",
       "    </tr>\n",
       "    <tr>\n",
       "      <th>3518</th>\n",
       "      <td>2024-01-27 04:24:35.528333</td>\n",
       "      <td>39.137964</td>\n",
       "      <td>94.449954</td>\n",
       "      <td>108.996080</td>\n",
       "      <td>Detak jantung dan saturasi oksigen tidak normal</td>\n",
       "    </tr>\n",
       "    <tr>\n",
       "      <th>2381</th>\n",
       "      <td>2024-01-26 09:27:35.527383</td>\n",
       "      <td>37.912563</td>\n",
       "      <td>95.455378</td>\n",
       "      <td>108.958106</td>\n",
       "      <td>Suhu dan detak jantung tidak normal</td>\n",
       "    </tr>\n",
       "    <tr>\n",
       "      <th>3169</th>\n",
       "      <td>2024-01-26 22:35:35.528333</td>\n",
       "      <td>38.237012</td>\n",
       "      <td>95.229204</td>\n",
       "      <td>109.956721</td>\n",
       "      <td>Suhu dan detak jantung tidak normal</td>\n",
       "    </tr>\n",
       "    <tr>\n",
       "      <th>1464</th>\n",
       "      <td>2024-01-25 18:10:35.526334</td>\n",
       "      <td>38.169250</td>\n",
       "      <td>93.352686</td>\n",
       "      <td>120.817519</td>\n",
       "      <td>Suhu,detak jantung, dan saturasi oksigen tidak...</td>\n",
       "    </tr>\n",
       "    <tr>\n",
       "      <th>4912</th>\n",
       "      <td>2024-01-28 03:38:35.531369</td>\n",
       "      <td>38.982421</td>\n",
       "      <td>93.611876</td>\n",
       "      <td>111.967199</td>\n",
       "      <td>Detak jantung dan saturasi oksigen tidak normal</td>\n",
       "    </tr>\n",
       "  </tbody>\n",
       "</table>\n",
       "</div>"
      ],
      "text/plain": [
       "                       Timestamp       Suhu  Saturasi_Oksigen  Detak_Jantung   \n",
       "3748  2024-01-27 08:14:35.529411  39.249192         95.378791     110.246982  \\\n",
       "1338  2024-01-25 16:04:35.526334  38.294869         96.519746     115.681044   \n",
       "3225  2024-01-26 23:31:35.528333  37.951526         95.472057     115.760709   \n",
       "581   2024-01-25 03:27:35.525284  38.306036         92.889748     110.321399   \n",
       "1611  2024-01-25 20:37:35.526334  37.700781        101.049332     109.178683   \n",
       "1226  2024-01-25 14:12:35.526334  38.612907         90.226628     110.662300   \n",
       "1628  2024-01-25 20:54:35.526334  38.605829         91.204370     115.588220   \n",
       "3948  2024-01-27 11:34:35.529411  38.326135         97.687902     108.854338   \n",
       "3518  2024-01-27 04:24:35.528333  39.137964         94.449954     108.996080   \n",
       "2381  2024-01-26 09:27:35.527383  37.912563         95.455378     108.958106   \n",
       "3169  2024-01-26 22:35:35.528333  38.237012         95.229204     109.956721   \n",
       "1464  2024-01-25 18:10:35.526334  38.169250         93.352686     120.817519   \n",
       "4912  2024-01-28 03:38:35.531369  38.982421         93.611876     111.967199   \n",
       "\n",
       "                                               Kategori  \n",
       "3748                         Detak Jantung tidak normal  \n",
       "1338                Suhu dan detak jantung tidak normal  \n",
       "3225                Suhu dan detak jantung tidak normal  \n",
       "581   Suhu,detak jantung, dan saturasi oksigen tidak...  \n",
       "1611  Suhu,detak jantung, dan saturasi oksigen tidak...  \n",
       "1226    Detak jantung dan saturasi oksigen tidak normal  \n",
       "1628    Detak jantung dan saturasi oksigen tidak normal  \n",
       "3948                Suhu dan detak jantung tidak normal  \n",
       "3518    Detak jantung dan saturasi oksigen tidak normal  \n",
       "2381                Suhu dan detak jantung tidak normal  \n",
       "3169                Suhu dan detak jantung tidak normal  \n",
       "1464  Suhu,detak jantung, dan saturasi oksigen tidak...  \n",
       "4912    Detak jantung dan saturasi oksigen tidak normal  "
      ]
     },
     "execution_count": 185,
     "metadata": {},
     "output_type": "execute_result"
    }
   ],
   "source": [
    "train[train['Detak_Jantung']>outlieratas('Detak_Jantung')]"
   ]
  },
  {
   "cell_type": "code",
   "execution_count": 186,
   "metadata": {},
   "outputs": [],
   "source": [
    "train = train[train['Detak_Jantung'] < outlieratas('Detak_Jantung')]\n"
   ]
  },
  {
   "cell_type": "code",
   "execution_count": 187,
   "metadata": {},
   "outputs": [
    {
     "data": {
      "text/html": [
       "<div>\n",
       "<style scoped>\n",
       "    .dataframe tbody tr th:only-of-type {\n",
       "        vertical-align: middle;\n",
       "    }\n",
       "\n",
       "    .dataframe tbody tr th {\n",
       "        vertical-align: top;\n",
       "    }\n",
       "\n",
       "    .dataframe thead th {\n",
       "        text-align: right;\n",
       "    }\n",
       "</style>\n",
       "<table border=\"1\" class=\"dataframe\">\n",
       "  <thead>\n",
       "    <tr style=\"text-align: right;\">\n",
       "      <th></th>\n",
       "      <th>Timestamp</th>\n",
       "      <th>Suhu</th>\n",
       "      <th>Saturasi_Oksigen</th>\n",
       "      <th>Detak_Jantung</th>\n",
       "      <th>Kategori</th>\n",
       "    </tr>\n",
       "  </thead>\n",
       "  <tbody>\n",
       "    <tr>\n",
       "      <th>340</th>\n",
       "      <td>2024-01-24 23:26:35.523776</td>\n",
       "      <td>38.146537</td>\n",
       "      <td>85.968321</td>\n",
       "      <td>74.713026</td>\n",
       "      <td>Suhu dan saturasi oksigen tidak normal</td>\n",
       "    </tr>\n",
       "    <tr>\n",
       "      <th>777</th>\n",
       "      <td>2024-01-25 06:43:35.525284</td>\n",
       "      <td>38.369813</td>\n",
       "      <td>86.217852</td>\n",
       "      <td>64.704119</td>\n",
       "      <td>Suhu,detak jantung, dan saturasi oksigen tidak...</td>\n",
       "    </tr>\n",
       "    <tr>\n",
       "      <th>4688</th>\n",
       "      <td>2024-01-27 23:54:35.530410</td>\n",
       "      <td>37.795874</td>\n",
       "      <td>86.010061</td>\n",
       "      <td>82.069121</td>\n",
       "      <td>Suhu dan saturasi oksigen tidak normal</td>\n",
       "    </tr>\n",
       "    <tr>\n",
       "      <th>1421</th>\n",
       "      <td>2024-01-25 17:27:35.526334</td>\n",
       "      <td>39.092181</td>\n",
       "      <td>84.539324</td>\n",
       "      <td>84.137318</td>\n",
       "      <td>Saturasi oksigen tidak normal</td>\n",
       "    </tr>\n",
       "    <tr>\n",
       "      <th>2494</th>\n",
       "      <td>2024-01-26 11:20:35.527383</td>\n",
       "      <td>37.844518</td>\n",
       "      <td>82.975529</td>\n",
       "      <td>86.809011</td>\n",
       "      <td>Suhu dan saturasi oksigen tidak normal</td>\n",
       "    </tr>\n",
       "    <tr>\n",
       "      <th>2085</th>\n",
       "      <td>2024-01-26 04:31:35.527383</td>\n",
       "      <td>37.921118</td>\n",
       "      <td>86.242478</td>\n",
       "      <td>98.353555</td>\n",
       "      <td>Suhu,detak jantung, dan saturasi oksigen tidak...</td>\n",
       "    </tr>\n",
       "    <tr>\n",
       "      <th>4611</th>\n",
       "      <td>2024-01-27 22:37:35.530410</td>\n",
       "      <td>37.502149</td>\n",
       "      <td>85.150591</td>\n",
       "      <td>81.705602</td>\n",
       "      <td>Suhu dan saturasi oksigen tidak normal</td>\n",
       "    </tr>\n",
       "  </tbody>\n",
       "</table>\n",
       "</div>"
      ],
      "text/plain": [
       "                       Timestamp       Suhu  Saturasi_Oksigen  Detak_Jantung   \n",
       "340   2024-01-24 23:26:35.523776  38.146537         85.968321      74.713026  \\\n",
       "777   2024-01-25 06:43:35.525284  38.369813         86.217852      64.704119   \n",
       "4688  2024-01-27 23:54:35.530410  37.795874         86.010061      82.069121   \n",
       "1421  2024-01-25 17:27:35.526334  39.092181         84.539324      84.137318   \n",
       "2494  2024-01-26 11:20:35.527383  37.844518         82.975529      86.809011   \n",
       "2085  2024-01-26 04:31:35.527383  37.921118         86.242478      98.353555   \n",
       "4611  2024-01-27 22:37:35.530410  37.502149         85.150591      81.705602   \n",
       "\n",
       "                                               Kategori  \n",
       "340              Suhu dan saturasi oksigen tidak normal  \n",
       "777   Suhu,detak jantung, dan saturasi oksigen tidak...  \n",
       "4688             Suhu dan saturasi oksigen tidak normal  \n",
       "1421                      Saturasi oksigen tidak normal  \n",
       "2494             Suhu dan saturasi oksigen tidak normal  \n",
       "2085  Suhu,detak jantung, dan saturasi oksigen tidak...  \n",
       "4611             Suhu dan saturasi oksigen tidak normal  "
      ]
     },
     "execution_count": 187,
     "metadata": {},
     "output_type": "execute_result"
    }
   ],
   "source": [
    "train[train['Saturasi_Oksigen']<outlierbawah('Saturasi_Oksigen')]"
   ]
  },
  {
   "cell_type": "code",
   "execution_count": 188,
   "metadata": {},
   "outputs": [],
   "source": [
    "train = train[train['Saturasi_Oksigen'] > outlierbawah('Saturasi_Oksigen')]\n"
   ]
  },
  {
   "cell_type": "code",
   "execution_count": 189,
   "metadata": {},
   "outputs": [
    {
     "data": {
      "text/html": [
       "<div>\n",
       "<style scoped>\n",
       "    .dataframe tbody tr th:only-of-type {\n",
       "        vertical-align: middle;\n",
       "    }\n",
       "\n",
       "    .dataframe tbody tr th {\n",
       "        vertical-align: top;\n",
       "    }\n",
       "\n",
       "    .dataframe thead th {\n",
       "        text-align: right;\n",
       "    }\n",
       "</style>\n",
       "<table border=\"1\" class=\"dataframe\">\n",
       "  <thead>\n",
       "    <tr style=\"text-align: right;\">\n",
       "      <th></th>\n",
       "      <th>Timestamp</th>\n",
       "      <th>Suhu</th>\n",
       "      <th>Saturasi_Oksigen</th>\n",
       "      <th>Detak_Jantung</th>\n",
       "      <th>Kategori</th>\n",
       "    </tr>\n",
       "  </thead>\n",
       "  <tbody>\n",
       "    <tr>\n",
       "      <th>262</th>\n",
       "      <td>2024-01-24 22:08:35.523776</td>\n",
       "      <td>36.940111</td>\n",
       "      <td>97.656456</td>\n",
       "      <td>92.488426</td>\n",
       "      <td>Suhu dan detak jantung tidak normal</td>\n",
       "    </tr>\n",
       "    <tr>\n",
       "      <th>1101</th>\n",
       "      <td>2024-01-25 12:07:35.526334</td>\n",
       "      <td>37.087217</td>\n",
       "      <td>94.444505</td>\n",
       "      <td>69.737049</td>\n",
       "      <td>Suhu,detak jantung, dan saturasi oksigen tidak...</td>\n",
       "    </tr>\n",
       "    <tr>\n",
       "      <th>3017</th>\n",
       "      <td>2024-01-26 20:03:35.528333</td>\n",
       "      <td>36.991847</td>\n",
       "      <td>94.173801</td>\n",
       "      <td>91.259462</td>\n",
       "      <td>Suhu,detak jantung, dan saturasi oksigen tidak...</td>\n",
       "    </tr>\n",
       "    <tr>\n",
       "      <th>3405</th>\n",
       "      <td>2024-01-27 02:31:35.528333</td>\n",
       "      <td>37.085075</td>\n",
       "      <td>89.931688</td>\n",
       "      <td>77.029174</td>\n",
       "      <td>Suhu dan saturasi oksigen tidak normal</td>\n",
       "    </tr>\n",
       "    <tr>\n",
       "      <th>4033</th>\n",
       "      <td>2024-01-27 12:59:35.529411</td>\n",
       "      <td>36.964549</td>\n",
       "      <td>87.341523</td>\n",
       "      <td>64.793035</td>\n",
       "      <td>Suhu,detak jantung, dan saturasi oksigen tidak...</td>\n",
       "    </tr>\n",
       "    <tr>\n",
       "      <th>1539</th>\n",
       "      <td>2024-01-25 19:25:35.526334</td>\n",
       "      <td>36.991713</td>\n",
       "      <td>91.949112</td>\n",
       "      <td>96.078046</td>\n",
       "      <td>Suhu,detak jantung, dan saturasi oksigen tidak...</td>\n",
       "    </tr>\n",
       "    <tr>\n",
       "      <th>4207</th>\n",
       "      <td>2024-01-27 15:53:35.530410</td>\n",
       "      <td>37.053922</td>\n",
       "      <td>93.937509</td>\n",
       "      <td>75.245628</td>\n",
       "      <td>Suhu dan saturasi oksigen tidak normal</td>\n",
       "    </tr>\n",
       "    <tr>\n",
       "      <th>4639</th>\n",
       "      <td>2024-01-27 23:05:35.530410</td>\n",
       "      <td>37.063629</td>\n",
       "      <td>94.697081</td>\n",
       "      <td>77.299360</td>\n",
       "      <td>Suhu dan saturasi oksigen tidak normal</td>\n",
       "    </tr>\n",
       "    <tr>\n",
       "      <th>4725</th>\n",
       "      <td>2024-01-28 00:31:35.531369</td>\n",
       "      <td>36.841940</td>\n",
       "      <td>94.261405</td>\n",
       "      <td>102.173747</td>\n",
       "      <td>Suhu,detak jantung, dan saturasi oksigen tidak...</td>\n",
       "    </tr>\n",
       "    <tr>\n",
       "      <th>1591</th>\n",
       "      <td>2024-01-25 20:17:35.526334</td>\n",
       "      <td>37.103911</td>\n",
       "      <td>87.846043</td>\n",
       "      <td>64.840806</td>\n",
       "      <td>Suhu,detak jantung, dan saturasi oksigen tidak...</td>\n",
       "    </tr>\n",
       "    <tr>\n",
       "      <th>4617</th>\n",
       "      <td>2024-01-27 22:43:35.530410</td>\n",
       "      <td>37.027777</td>\n",
       "      <td>92.993663</td>\n",
       "      <td>90.749230</td>\n",
       "      <td>Suhu,detak jantung, dan saturasi oksigen tidak...</td>\n",
       "    </tr>\n",
       "    <tr>\n",
       "      <th>2884</th>\n",
       "      <td>2024-01-26 17:50:35.528333</td>\n",
       "      <td>37.143177</td>\n",
       "      <td>94.365155</td>\n",
       "      <td>84.565545</td>\n",
       "      <td>Suhu dan saturasi oksigen tidak normal</td>\n",
       "    </tr>\n",
       "    <tr>\n",
       "      <th>4635</th>\n",
       "      <td>2024-01-27 23:01:35.530410</td>\n",
       "      <td>37.126673</td>\n",
       "      <td>88.920129</td>\n",
       "      <td>75.626422</td>\n",
       "      <td>Suhu dan saturasi oksigen tidak normal</td>\n",
       "    </tr>\n",
       "  </tbody>\n",
       "</table>\n",
       "</div>"
      ],
      "text/plain": [
       "                       Timestamp       Suhu  Saturasi_Oksigen  Detak_Jantung   \n",
       "262   2024-01-24 22:08:35.523776  36.940111         97.656456      92.488426  \\\n",
       "1101  2024-01-25 12:07:35.526334  37.087217         94.444505      69.737049   \n",
       "3017  2024-01-26 20:03:35.528333  36.991847         94.173801      91.259462   \n",
       "3405  2024-01-27 02:31:35.528333  37.085075         89.931688      77.029174   \n",
       "4033  2024-01-27 12:59:35.529411  36.964549         87.341523      64.793035   \n",
       "1539  2024-01-25 19:25:35.526334  36.991713         91.949112      96.078046   \n",
       "4207  2024-01-27 15:53:35.530410  37.053922         93.937509      75.245628   \n",
       "4639  2024-01-27 23:05:35.530410  37.063629         94.697081      77.299360   \n",
       "4725  2024-01-28 00:31:35.531369  36.841940         94.261405     102.173747   \n",
       "1591  2024-01-25 20:17:35.526334  37.103911         87.846043      64.840806   \n",
       "4617  2024-01-27 22:43:35.530410  37.027777         92.993663      90.749230   \n",
       "2884  2024-01-26 17:50:35.528333  37.143177         94.365155      84.565545   \n",
       "4635  2024-01-27 23:01:35.530410  37.126673         88.920129      75.626422   \n",
       "\n",
       "                                               Kategori  \n",
       "262                 Suhu dan detak jantung tidak normal  \n",
       "1101  Suhu,detak jantung, dan saturasi oksigen tidak...  \n",
       "3017  Suhu,detak jantung, dan saturasi oksigen tidak...  \n",
       "3405             Suhu dan saturasi oksigen tidak normal  \n",
       "4033  Suhu,detak jantung, dan saturasi oksigen tidak...  \n",
       "1539  Suhu,detak jantung, dan saturasi oksigen tidak...  \n",
       "4207             Suhu dan saturasi oksigen tidak normal  \n",
       "4639             Suhu dan saturasi oksigen tidak normal  \n",
       "4725  Suhu,detak jantung, dan saturasi oksigen tidak...  \n",
       "1591  Suhu,detak jantung, dan saturasi oksigen tidak...  \n",
       "4617  Suhu,detak jantung, dan saturasi oksigen tidak...  \n",
       "2884             Suhu dan saturasi oksigen tidak normal  \n",
       "4635             Suhu dan saturasi oksigen tidak normal  "
      ]
     },
     "execution_count": 189,
     "metadata": {},
     "output_type": "execute_result"
    }
   ],
   "source": [
    "train[train['Suhu']<outlierbawah('Suhu')]"
   ]
  },
  {
   "cell_type": "code",
   "execution_count": 190,
   "metadata": {},
   "outputs": [
    {
     "data": {
      "text/plain": [
       "array(['Detak jantung dan saturasi oksigen tidak normal',\n",
       "       'Saturasi oksigen tidak normal',\n",
       "       'Suhu dan saturasi oksigen tidak normal', 'Suhu tidak normal',\n",
       "       'Sehat', 'Detak Jantung tidak normal',\n",
       "       'Suhu,detak jantung, dan saturasi oksigen tidak normal',\n",
       "       'Suhu dan detak jantung tidak normal'], dtype=object)"
      ]
     },
     "execution_count": 190,
     "metadata": {},
     "output_type": "execute_result"
    }
   ],
   "source": [
    "train['Kategori'].unique()"
   ]
  },
  {
   "cell_type": "code",
   "execution_count": 191,
   "metadata": {},
   "outputs": [],
   "source": [
    "scaler = StandardScaler()"
   ]
  },
  {
   "cell_type": "code",
   "execution_count": 192,
   "metadata": {},
   "outputs": [],
   "source": [
    "labelenc = LabelEncoder()"
   ]
  },
  {
   "cell_type": "code",
   "execution_count": 193,
   "metadata": {},
   "outputs": [
    {
     "data": {
      "text/plain": [
       "array([1, 2, 5, 6, 3, 0, 7, 4])"
      ]
     },
     "execution_count": 193,
     "metadata": {},
     "output_type": "execute_result"
    }
   ],
   "source": [
    "train['Kategori'] = labelenc.fit_transform(train['Kategori'])\n",
    "train['Kategori'].unique()"
   ]
  },
  {
   "cell_type": "markdown",
   "metadata": {},
   "source": [
    "0 = Detak jantung dan saturasi oksigen tidak normal > 1\n",
    "\n",
    "1 = Saturasi oksigen tidak normal > 2\n",
    "\n",
    "2 = Suhu dan saturasi oksigen tidak normal > 5\n",
    "\n",
    "3 = Suhu tidak normal > 6\n",
    "\n",
    "4 = Sehat > 3\n",
    "\n",
    "5 = Detak Jantung tidak normal > 0\n",
    "\n",
    "6 = Suhu,detak jantung, dan saturasi oksigen tidak normal > 7\n",
    "\n",
    "7 = Suhu dan detak jantung tidak normal > 4"
   ]
  },
  {
   "cell_type": "code",
   "execution_count": 194,
   "metadata": {},
   "outputs": [
    {
     "data": {
      "text/html": [
       "<div>\n",
       "<style scoped>\n",
       "    .dataframe tbody tr th:only-of-type {\n",
       "        vertical-align: middle;\n",
       "    }\n",
       "\n",
       "    .dataframe tbody tr th {\n",
       "        vertical-align: top;\n",
       "    }\n",
       "\n",
       "    .dataframe thead th {\n",
       "        text-align: right;\n",
       "    }\n",
       "</style>\n",
       "<table border=\"1\" class=\"dataframe\">\n",
       "  <thead>\n",
       "    <tr style=\"text-align: right;\">\n",
       "      <th></th>\n",
       "      <th>Timestamp</th>\n",
       "      <th>Suhu</th>\n",
       "      <th>Saturasi_Oksigen</th>\n",
       "      <th>Detak_Jantung</th>\n",
       "      <th>Kategori</th>\n",
       "    </tr>\n",
       "  </thead>\n",
       "  <tbody>\n",
       "    <tr>\n",
       "      <th>1334</th>\n",
       "      <td>2024-01-25 16:00:35.526334</td>\n",
       "      <td>38.609238</td>\n",
       "      <td>91.860582</td>\n",
       "      <td>67.063170</td>\n",
       "      <td>1</td>\n",
       "    </tr>\n",
       "    <tr>\n",
       "      <th>4768</th>\n",
       "      <td>2024-01-28 01:14:35.531369</td>\n",
       "      <td>39.062642</td>\n",
       "      <td>94.719891</td>\n",
       "      <td>66.905926</td>\n",
       "      <td>1</td>\n",
       "    </tr>\n",
       "    <tr>\n",
       "      <th>65</th>\n",
       "      <td>2024-01-24 18:51:35.523776</td>\n",
       "      <td>39.210644</td>\n",
       "      <td>89.541798</td>\n",
       "      <td>75.130105</td>\n",
       "      <td>2</td>\n",
       "    </tr>\n",
       "    <tr>\n",
       "      <th>177</th>\n",
       "      <td>2024-01-24 20:43:35.523776</td>\n",
       "      <td>39.252099</td>\n",
       "      <td>92.970502</td>\n",
       "      <td>80.659298</td>\n",
       "      <td>2</td>\n",
       "    </tr>\n",
       "    <tr>\n",
       "      <th>4489</th>\n",
       "      <td>2024-01-27 20:35:35.530410</td>\n",
       "      <td>38.500546</td>\n",
       "      <td>94.482935</td>\n",
       "      <td>64.202160</td>\n",
       "      <td>1</td>\n",
       "    </tr>\n",
       "    <tr>\n",
       "      <th>...</th>\n",
       "      <td>...</td>\n",
       "      <td>...</td>\n",
       "      <td>...</td>\n",
       "      <td>...</td>\n",
       "      <td>...</td>\n",
       "    </tr>\n",
       "    <tr>\n",
       "      <th>2895</th>\n",
       "      <td>2024-01-26 18:01:35.528333</td>\n",
       "      <td>40.461713</td>\n",
       "      <td>97.828023</td>\n",
       "      <td>93.559316</td>\n",
       "      <td>4</td>\n",
       "    </tr>\n",
       "    <tr>\n",
       "      <th>2763</th>\n",
       "      <td>2024-01-26 15:49:35.527383</td>\n",
       "      <td>38.258842</td>\n",
       "      <td>101.530408</td>\n",
       "      <td>78.214470</td>\n",
       "      <td>5</td>\n",
       "    </tr>\n",
       "    <tr>\n",
       "      <th>905</th>\n",
       "      <td>2024-01-25 08:51:35.525284</td>\n",
       "      <td>38.482854</td>\n",
       "      <td>92.650963</td>\n",
       "      <td>57.157497</td>\n",
       "      <td>7</td>\n",
       "    </tr>\n",
       "    <tr>\n",
       "      <th>3980</th>\n",
       "      <td>2024-01-27 12:06:35.529411</td>\n",
       "      <td>39.207309</td>\n",
       "      <td>96.627619</td>\n",
       "      <td>87.918405</td>\n",
       "      <td>3</td>\n",
       "    </tr>\n",
       "    <tr>\n",
       "      <th>235</th>\n",
       "      <td>2024-01-24 21:41:35.523776</td>\n",
       "      <td>38.826661</td>\n",
       "      <td>97.181161</td>\n",
       "      <td>82.137179</td>\n",
       "      <td>3</td>\n",
       "    </tr>\n",
       "  </tbody>\n",
       "</table>\n",
       "<p>3463 rows × 5 columns</p>\n",
       "</div>"
      ],
      "text/plain": [
       "                       Timestamp       Suhu  Saturasi_Oksigen  Detak_Jantung   \n",
       "1334  2024-01-25 16:00:35.526334  38.609238         91.860582      67.063170  \\\n",
       "4768  2024-01-28 01:14:35.531369  39.062642         94.719891      66.905926   \n",
       "65    2024-01-24 18:51:35.523776  39.210644         89.541798      75.130105   \n",
       "177   2024-01-24 20:43:35.523776  39.252099         92.970502      80.659298   \n",
       "4489  2024-01-27 20:35:35.530410  38.500546         94.482935      64.202160   \n",
       "...                          ...        ...               ...            ...   \n",
       "2895  2024-01-26 18:01:35.528333  40.461713         97.828023      93.559316   \n",
       "2763  2024-01-26 15:49:35.527383  38.258842        101.530408      78.214470   \n",
       "905   2024-01-25 08:51:35.525284  38.482854         92.650963      57.157497   \n",
       "3980  2024-01-27 12:06:35.529411  39.207309         96.627619      87.918405   \n",
       "235   2024-01-24 21:41:35.523776  38.826661         97.181161      82.137179   \n",
       "\n",
       "      Kategori  \n",
       "1334         1  \n",
       "4768         1  \n",
       "65           2  \n",
       "177          2  \n",
       "4489         1  \n",
       "...        ...  \n",
       "2895         4  \n",
       "2763         5  \n",
       "905          7  \n",
       "3980         3  \n",
       "235          3  \n",
       "\n",
       "[3463 rows x 5 columns]"
      ]
     },
     "execution_count": 194,
     "metadata": {},
     "output_type": "execute_result"
    }
   ],
   "source": [
    "train"
   ]
  },
  {
   "cell_type": "code",
   "execution_count": 195,
   "metadata": {},
   "outputs": [],
   "source": [
    "X = train.drop(columns=[\"Timestamp\",\"Kategori\"])\n",
    "y = train[[\"Kategori\"]]"
   ]
  },
  {
   "cell_type": "code",
   "execution_count": 196,
   "metadata": {},
   "outputs": [],
   "source": [
    "testb = test.drop(columns=[\"Timestamp\"])\n"
   ]
  },
  {
   "cell_type": "code",
   "execution_count": 197,
   "metadata": {},
   "outputs": [
    {
     "data": {
      "text/html": [
       "<div>\n",
       "<style scoped>\n",
       "    .dataframe tbody tr th:only-of-type {\n",
       "        vertical-align: middle;\n",
       "    }\n",
       "\n",
       "    .dataframe tbody tr th {\n",
       "        vertical-align: top;\n",
       "    }\n",
       "\n",
       "    .dataframe thead th {\n",
       "        text-align: right;\n",
       "    }\n",
       "</style>\n",
       "<table border=\"1\" class=\"dataframe\">\n",
       "  <thead>\n",
       "    <tr style=\"text-align: right;\">\n",
       "      <th></th>\n",
       "      <th>Suhu</th>\n",
       "      <th>Saturasi_Oksigen</th>\n",
       "      <th>Detak_Jantung</th>\n",
       "    </tr>\n",
       "  </thead>\n",
       "  <tbody>\n",
       "    <tr>\n",
       "      <th>1334</th>\n",
       "      <td>38.609238</td>\n",
       "      <td>91.860582</td>\n",
       "      <td>67.063170</td>\n",
       "    </tr>\n",
       "    <tr>\n",
       "      <th>4768</th>\n",
       "      <td>39.062642</td>\n",
       "      <td>94.719891</td>\n",
       "      <td>66.905926</td>\n",
       "    </tr>\n",
       "    <tr>\n",
       "      <th>65</th>\n",
       "      <td>39.210644</td>\n",
       "      <td>89.541798</td>\n",
       "      <td>75.130105</td>\n",
       "    </tr>\n",
       "    <tr>\n",
       "      <th>177</th>\n",
       "      <td>39.252099</td>\n",
       "      <td>92.970502</td>\n",
       "      <td>80.659298</td>\n",
       "    </tr>\n",
       "    <tr>\n",
       "      <th>4489</th>\n",
       "      <td>38.500546</td>\n",
       "      <td>94.482935</td>\n",
       "      <td>64.202160</td>\n",
       "    </tr>\n",
       "    <tr>\n",
       "      <th>...</th>\n",
       "      <td>...</td>\n",
       "      <td>...</td>\n",
       "      <td>...</td>\n",
       "    </tr>\n",
       "    <tr>\n",
       "      <th>2895</th>\n",
       "      <td>40.461713</td>\n",
       "      <td>97.828023</td>\n",
       "      <td>93.559316</td>\n",
       "    </tr>\n",
       "    <tr>\n",
       "      <th>2763</th>\n",
       "      <td>38.258842</td>\n",
       "      <td>101.530408</td>\n",
       "      <td>78.214470</td>\n",
       "    </tr>\n",
       "    <tr>\n",
       "      <th>905</th>\n",
       "      <td>38.482854</td>\n",
       "      <td>92.650963</td>\n",
       "      <td>57.157497</td>\n",
       "    </tr>\n",
       "    <tr>\n",
       "      <th>3980</th>\n",
       "      <td>39.207309</td>\n",
       "      <td>96.627619</td>\n",
       "      <td>87.918405</td>\n",
       "    </tr>\n",
       "    <tr>\n",
       "      <th>235</th>\n",
       "      <td>38.826661</td>\n",
       "      <td>97.181161</td>\n",
       "      <td>82.137179</td>\n",
       "    </tr>\n",
       "  </tbody>\n",
       "</table>\n",
       "<p>3463 rows × 3 columns</p>\n",
       "</div>"
      ],
      "text/plain": [
       "           Suhu  Saturasi_Oksigen  Detak_Jantung\n",
       "1334  38.609238         91.860582      67.063170\n",
       "4768  39.062642         94.719891      66.905926\n",
       "65    39.210644         89.541798      75.130105\n",
       "177   39.252099         92.970502      80.659298\n",
       "4489  38.500546         94.482935      64.202160\n",
       "...         ...               ...            ...\n",
       "2895  40.461713         97.828023      93.559316\n",
       "2763  38.258842        101.530408      78.214470\n",
       "905   38.482854         92.650963      57.157497\n",
       "3980  39.207309         96.627619      87.918405\n",
       "235   38.826661         97.181161      82.137179\n",
       "\n",
       "[3463 rows x 3 columns]"
      ]
     },
     "execution_count": 197,
     "metadata": {},
     "output_type": "execute_result"
    }
   ],
   "source": [
    "X"
   ]
  },
  {
   "cell_type": "code",
   "execution_count": 198,
   "metadata": {},
   "outputs": [],
   "source": [
    "X_scaled = scaler.fit_transform(X)\n",
    "test_df_scaled = scaler.fit_transform(testb)"
   ]
  },
  {
   "cell_type": "code",
   "execution_count": 199,
   "metadata": {},
   "outputs": [
    {
     "data": {
      "text/plain": [
       "array([[ 0.23289623, -1.00039792, -1.28016768],\n",
       "       [ 1.14542913, -0.07896741, -1.2955831 ],\n",
       "       [ 1.44330297, -1.74764124, -0.48932291],\n",
       "       ...,\n",
       "       [-0.02146655, -0.74569269, -2.25127369],\n",
       "       [ 1.4365908 ,  0.53581019,  0.76438247],\n",
       "       [ 0.6704868 ,  0.71419282,  0.19761806]])"
      ]
     },
     "execution_count": 199,
     "metadata": {},
     "output_type": "execute_result"
    }
   ],
   "source": [
    "X_scaled"
   ]
  },
  {
   "cell_type": "code",
   "execution_count": 200,
   "metadata": {},
   "outputs": [],
   "source": [
    "x_train,x_test,y_train,y_test = train_test_split(X,y,test_size=0.2,random_state=0)"
   ]
  },
  {
   "cell_type": "code",
   "execution_count": 201,
   "metadata": {},
   "outputs": [
    {
     "name": "stdout",
     "output_type": "stream",
     "text": [
      "(2770, 3) (2770, 1)\n"
     ]
    }
   ],
   "source": [
    "print(x_train.shape, y_train.shape)"
   ]
  },
  {
   "cell_type": "code",
   "execution_count": 202,
   "metadata": {},
   "outputs": [
    {
     "name": "stdout",
     "output_type": "stream",
     "text": [
      "(693, 3) (693, 1)\n"
     ]
    }
   ],
   "source": [
    "print(x_test.shape,y_test.shape)"
   ]
  },
  {
   "cell_type": "code",
   "execution_count": 203,
   "metadata": {},
   "outputs": [],
   "source": [
    "x_train1, x_test1, y_train1, y_test1 = train_test_split(X_scaled,y,test_size=0.2,random_state=0)"
   ]
  },
  {
   "cell_type": "code",
   "execution_count": 204,
   "metadata": {},
   "outputs": [
    {
     "name": "stdout",
     "output_type": "stream",
     "text": [
      "(2770, 3) (2770, 1)\n"
     ]
    }
   ],
   "source": [
    "print(x_train1.shape, y_train1.shape)"
   ]
  },
  {
   "cell_type": "code",
   "execution_count": 205,
   "metadata": {},
   "outputs": [
    {
     "name": "stdout",
     "output_type": "stream",
     "text": [
      "(693, 3) (693, 1)\n"
     ]
    }
   ],
   "source": [
    "print(x_test1.shape, y_test1.shape)"
   ]
  },
  {
   "cell_type": "code",
   "execution_count": 206,
   "metadata": {},
   "outputs": [],
   "source": [
    "training_score = []\n",
    "testing_score = []"
   ]
  },
  {
   "cell_type": "code",
   "execution_count": 207,
   "metadata": {},
   "outputs": [],
   "source": [
    "def model_prediction(model):\n",
    "    model.fit(x_train1,y_train1)\n",
    "    x_train_pred1 = model.predict(x_train1)\n",
    "    x_test_pred1 = model.predict(x_test1)\n",
    "    a = accuracy_score(y_train1,x_train_pred1)*100\n",
    "    b = accuracy_score(y_test1,x_test_pred1)*100\n",
    "    training_score.append(a)\n",
    "    testing_score.append(b)\n",
    "    \n",
    "    print(f\"Accuracy_Score of {model} model on Training Data is:\",a)\n",
    "    print(f\"Accuracy_Score of {model} model on Testing Data is:\",b)\n",
    "    print(\"\\n------------------------------------------------------------------------\")\n",
    "    print(f\"Precision Score of {model} model is:\",precision_score(y_test1,x_test_pred1,average='macro'))\n",
    "    print(f\"Recall Score of {model} model is:\",recall_score(y_test1,x_test_pred1,average='macro'))\n",
    "    print(f\"F1 Score of {model} model is:\",f1_score(y_test1,x_test_pred1,average='macro'))\n",
    "    print(\"\\n------------------------------------------------------------------------\")\n",
    "    print(f\"Confusion Matrix of {model} model is:\")\n",
    "    cm = confusion_matrix(y_test1,x_test_pred1)\n",
    "    plt.figure(figsize=(8,4))\n",
    "    sns.heatmap(cm,annot=True,fmt=\"g\",cmap=\"summer\")\n",
    "    plt.show()"
   ]
  },
  {
   "cell_type": "code",
   "execution_count": 208,
   "metadata": {},
   "outputs": [
    {
     "name": "stdout",
     "output_type": "stream",
     "text": [
      "Accuracy_Score of DecisionTreeClassifier() model on Training Data is: 100.0\n",
      "Accuracy_Score of DecisionTreeClassifier() model on Testing Data is: 99.71139971139971\n",
      "\n",
      "------------------------------------------------------------------------\n",
      "Precision Score of DecisionTreeClassifier() model is: 0.9954530423280423\n",
      "Recall Score of DecisionTreeClassifier() model is: 0.9960404483430799\n",
      "F1 Score of DecisionTreeClassifier() model is: 0.9957312444895225\n",
      "\n",
      "------------------------------------------------------------------------\n",
      "Confusion Matrix of DecisionTreeClassifier() model is:\n"
     ]
    },
    {
     "data": {
      "image/png": "[encoded data removed]",
      "text/plain": [
       "<Figure size 800x400 with 2 Axes>"
      ]
     },
     "metadata": {},
     "output_type": "display_data"
    }
   ],
   "source": [
    "model_prediction(DecisionTreeClassifier())"
   ]
  },
  {
   "cell_type": "code",
   "execution_count": 209,
   "metadata": {},
   "outputs": [
    {
     "name": "stderr",
     "output_type": "stream",
     "text": [
      "C:\\Users\\Lenovo\\AppData\\Local\\Temp\\ipykernel_19772\\517314366.py:2: DataConversionWarning: A column-vector y was passed when a 1d array was expected. Please change the shape of y to (n_samples,), for example using ravel().\n",
      "  model.fit(x_train1,y_train1)\n"
     ]
    },
    {
     "name": "stdout",
     "output_type": "stream",
     "text": [
      "Accuracy_Score of RandomForestClassifier() model on Training Data is: 100.0\n",
      "Accuracy_Score of RandomForestClassifier() model on Testing Data is: 99.85569985569985\n",
      "\n",
      "------------------------------------------------------------------------\n",
      "Precision Score of RandomForestClassifier() model is: 0.9977678571428572\n",
      "Recall Score of RandomForestClassifier() model is: 0.9976851851851851\n",
      "F1 Score of RandomForestClassifier() model is: 0.9977056495748085\n",
      "\n",
      "------------------------------------------------------------------------\n",
      "Confusion Matrix of RandomForestClassifier() model is:\n"
     ]
    },
    {
     "data": {
      "image/png": "[encoded data removed]",
      "text/plain": [
       "<Figure size 800x400 with 2 Axes>"
      ]
     },
     "metadata": {},
     "output_type": "display_data"
    }
   ],
   "source": [
    "model_prediction(RandomForestClassifier())"
   ]
  },
  {
   "cell_type": "code",
   "execution_count": 210,
   "metadata": {},
   "outputs": [
    {
     "name": "stderr",
     "output_type": "stream",
     "text": [
      "C:\\Users\\Lenovo\\AppData\\Local\\Packages\\PythonSoftwareFoundation.Python.3.9_qbz5n2kfra8p0\\LocalCache\\local-packages\\Python39\\site-packages\\sklearn\\utils\\validation.py:1143: DataConversionWarning: A column-vector y was passed when a 1d array was expected. Please change the shape of y to (n_samples, ), for example using ravel().\n",
      "  y = column_or_1d(y, warn=True)\n"
     ]
    },
    {
     "name": "stdout",
     "output_type": "stream",
     "text": [
      "Accuracy_Score of GaussianNB() model on Training Data is: 89.45848375451263\n",
      "Accuracy_Score of GaussianNB() model on Testing Data is: 88.88888888888889\n",
      "\n",
      "------------------------------------------------------------------------\n",
      "Precision Score of GaussianNB() model is: 0.8970638774138574\n",
      "Recall Score of GaussianNB() model is: 0.8701838542875268\n",
      "F1 Score of GaussianNB() model is: 0.879953954556693\n",
      "\n",
      "------------------------------------------------------------------------\n",
      "Confusion Matrix of GaussianNB() model is:\n"
     ]
    },
    {
     "data": {
      "image/png": "[encoded data removed]",
      "text/plain": [
       "<Figure size 800x400 with 2 Axes>"
      ]
     },
     "metadata": {},
     "output_type": "display_data"
    }
   ],
   "source": [
    "model_prediction(GaussianNB())"
   ]
  },
  {
   "cell_type": "code",
   "execution_count": 211,
   "metadata": {},
   "outputs": [
    {
     "name": "stderr",
     "output_type": "stream",
     "text": [
      "C:\\Users\\Lenovo\\AppData\\Local\\Packages\\PythonSoftwareFoundation.Python.3.9_qbz5n2kfra8p0\\LocalCache\\local-packages\\Python39\\site-packages\\sklearn\\neighbors\\_classification.py:215: DataConversionWarning: A column-vector y was passed when a 1d array was expected. Please change the shape of y to (n_samples,), for example using ravel().\n",
      "  return self._fit(X, y)\n"
     ]
    },
    {
     "name": "stdout",
     "output_type": "stream",
     "text": [
      "Accuracy_Score of KNeighborsClassifier() model on Training Data is: 93.86281588447653\n",
      "Accuracy_Score of KNeighborsClassifier() model on Testing Data is: 90.33189033189034\n",
      "\n",
      "------------------------------------------------------------------------\n",
      "Precision Score of KNeighborsClassifier() model is: 0.8951136439526532\n",
      "Recall Score of KNeighborsClassifier() model is: 0.8891312806899013\n",
      "F1 Score of KNeighborsClassifier() model is: 0.8912389131481844\n",
      "\n",
      "------------------------------------------------------------------------\n",
      "Confusion Matrix of KNeighborsClassifier() model is:\n"
     ]
    },
    {
     "data": {
      "image/png": "[encoded data removed]",
      "text/plain": [
       "<Figure size 800x400 with 2 Axes>"
      ]
     },
     "metadata": {},
     "output_type": "display_data"
    }
   ],
   "source": [
    "model_prediction(KNeighborsClassifier())"
   ]
  },
  {
   "cell_type": "code",
   "execution_count": 212,
   "metadata": {},
   "outputs": [
    {
     "name": "stderr",
     "output_type": "stream",
     "text": [
      "C:\\Users\\Lenovo\\AppData\\Local\\Packages\\PythonSoftwareFoundation.Python.3.9_qbz5n2kfra8p0\\LocalCache\\local-packages\\Python39\\site-packages\\sklearn\\utils\\validation.py:1143: DataConversionWarning: A column-vector y was passed when a 1d array was expected. Please change the shape of y to (n_samples, ), for example using ravel().\n",
      "  y = column_or_1d(y, warn=True)\n"
     ]
    },
    {
     "name": "stdout",
     "output_type": "stream",
     "text": [
      "Accuracy_Score of AdaBoostClassifier() model on Training Data is: 36.8231046931408\n",
      "Accuracy_Score of AdaBoostClassifier() model on Testing Data is: 34.1991341991342\n",
      "\n",
      "------------------------------------------------------------------------\n",
      "Precision Score of AdaBoostClassifier() model is: 0.08556134693265337\n",
      "Recall Score of AdaBoostClassifier() model is: 0.25\n",
      "F1 Score of AdaBoostClassifier() model is: 0.12746138795220846\n",
      "\n",
      "------------------------------------------------------------------------\n",
      "Confusion Matrix of AdaBoostClassifier() model is:\n"
     ]
    },
    {
     "name": "stderr",
     "output_type": "stream",
     "text": [
      "C:\\Users\\Lenovo\\AppData\\Local\\Packages\\PythonSoftwareFoundation.Python.3.9_qbz5n2kfra8p0\\LocalCache\\local-packages\\Python39\\site-packages\\sklearn\\metrics\\_classification.py:1344: UndefinedMetricWarning: Precision is ill-defined and being set to 0.0 in labels with no predicted samples. Use `zero_division` parameter to control this behavior.\n",
      "  _warn_prf(average, modifier, msg_start, len(result))\n"
     ]
    },
    {
     "data": {
      "image/png": "[encoded data removed]",
      "text/plain": [
       "<Figure size 800x400 with 2 Axes>"
      ]
     },
     "metadata": {},
     "output_type": "display_data"
    }
   ],
   "source": [
    "model_prediction(AdaBoostClassifier())\n"
   ]
  },
  {
   "cell_type": "code",
   "execution_count": 213,
   "metadata": {},
   "outputs": [
    {
     "name": "stderr",
     "output_type": "stream",
     "text": [
      "C:\\Users\\Lenovo\\AppData\\Local\\Packages\\PythonSoftwareFoundation.Python.3.9_qbz5n2kfra8p0\\LocalCache\\local-packages\\Python39\\site-packages\\sklearn\\ensemble\\_gb.py:437: DataConversionWarning: A column-vector y was passed when a 1d array was expected. Please change the shape of y to (n_samples, ), for example using ravel().\n",
      "  y = column_or_1d(y, warn=True)\n"
     ]
    },
    {
     "name": "stdout",
     "output_type": "stream",
     "text": [
      "Accuracy_Score of GradientBoostingClassifier() model on Training Data is: 100.0\n",
      "Accuracy_Score of GradientBoostingClassifier() model on Testing Data is: 99.27849927849928\n",
      "\n",
      "------------------------------------------------------------------------\n",
      "Precision Score of GradientBoostingClassifier() model is: 0.9910056422912531\n",
      "Recall Score of GradientBoostingClassifier() model is: 0.9917503215282006\n",
      "F1 Score of GradientBoostingClassifier() model is: 0.9913094491171395\n",
      "\n",
      "------------------------------------------------------------------------\n",
      "Confusion Matrix of GradientBoostingClassifier() model is:\n"
     ]
    },
    {
     "data": {
      "image/png": "[encoded data removed]",
      "text/plain": [
       "<Figure size 800x400 with 2 Axes>"
      ]
     },
     "metadata": {},
     "output_type": "display_data"
    }
   ],
   "source": [
    "model_prediction(GradientBoostingClassifier())"
   ]
  },
  {
   "cell_type": "code",
   "execution_count": 214,
   "metadata": {},
   "outputs": [],
   "source": [
    "model = RandomForestClassifier()"
   ]
  },
  {
   "cell_type": "code",
   "execution_count": 215,
   "metadata": {},
   "outputs": [
    {
     "name": "stderr",
     "output_type": "stream",
     "text": [
      "C:\\Users\\Lenovo\\AppData\\Local\\Temp\\ipykernel_19772\\1753296610.py:1: DataConversionWarning: A column-vector y was passed when a 1d array was expected. Please change the shape of y to (n_samples,), for example using ravel().\n",
      "  model.fit(x_train,y_train)\n"
     ]
    }
   ],
   "source": [
    "model.fit(x_train,y_train)\n",
    "pred1 = model.predict(x_test)"
   ]
  },
  {
   "cell_type": "code",
   "execution_count": 216,
   "metadata": {},
   "outputs": [
    {
     "name": "stdout",
     "output_type": "stream",
     "text": [
      "(1500, 3) (2770, 3)\n"
     ]
    }
   ],
   "source": [
    "print(testb.shape,x_train.shape)"
   ]
  },
  {
   "cell_type": "code",
   "execution_count": 217,
   "metadata": {},
   "outputs": [],
   "source": [
    "pred = model.predict(testb)\n"
   ]
  },
  {
   "cell_type": "code",
   "execution_count": 218,
   "metadata": {},
   "outputs": [
    {
     "data": {
      "text/plain": [
       "array([2, 4, 5, ..., 7, 2, 2])"
      ]
     },
     "execution_count": 218,
     "metadata": {},
     "output_type": "execute_result"
    }
   ],
   "source": [
    "pred"
   ]
  },
  {
   "cell_type": "code",
   "execution_count": 219,
   "metadata": {},
   "outputs": [],
   "source": [
    "testb[\"Kategori\"]= pred"
   ]
  },
  {
   "cell_type": "code",
   "execution_count": 220,
   "metadata": {},
   "outputs": [
    {
     "data": {
      "text/html": [
       "<div>\n",
       "<style scoped>\n",
       "    .dataframe tbody tr th:only-of-type {\n",
       "        vertical-align: middle;\n",
       "    }\n",
       "\n",
       "    .dataframe tbody tr th {\n",
       "        vertical-align: top;\n",
       "    }\n",
       "\n",
       "    .dataframe thead th {\n",
       "        text-align: right;\n",
       "    }\n",
       "</style>\n",
       "<table border=\"1\" class=\"dataframe\">\n",
       "  <thead>\n",
       "    <tr style=\"text-align: right;\">\n",
       "      <th></th>\n",
       "      <th>Suhu</th>\n",
       "      <th>Saturasi_Oksigen</th>\n",
       "      <th>Detak_Jantung</th>\n",
       "      <th>Kategori</th>\n",
       "    </tr>\n",
       "  </thead>\n",
       "  <tbody>\n",
       "    <tr>\n",
       "      <th>3670</th>\n",
       "      <td>39.051390</td>\n",
       "      <td>94.504200</td>\n",
       "      <td>92.353403</td>\n",
       "      <td>1</td>\n",
       "    </tr>\n",
       "    <tr>\n",
       "      <th>3185</th>\n",
       "      <td>39.134184</td>\n",
       "      <td>89.983161</td>\n",
       "      <td>98.513046</td>\n",
       "      <td>1</td>\n",
       "    </tr>\n",
       "    <tr>\n",
       "      <th>4377</th>\n",
       "      <td>39.520234</td>\n",
       "      <td>93.513945</td>\n",
       "      <td>98.082064</td>\n",
       "      <td>1</td>\n",
       "    </tr>\n",
       "    <tr>\n",
       "      <th>1441</th>\n",
       "      <td>39.153510</td>\n",
       "      <td>94.475251</td>\n",
       "      <td>64.860960</td>\n",
       "      <td>1</td>\n",
       "    </tr>\n",
       "    <tr>\n",
       "      <th>3743</th>\n",
       "      <td>38.614083</td>\n",
       "      <td>100.516694</td>\n",
       "      <td>69.189183</td>\n",
       "      <td>1</td>\n",
       "    </tr>\n",
       "    <tr>\n",
       "      <th>...</th>\n",
       "      <td>...</td>\n",
       "      <td>...</td>\n",
       "      <td>...</td>\n",
       "      <td>...</td>\n",
       "    </tr>\n",
       "    <tr>\n",
       "      <th>2270</th>\n",
       "      <td>38.613372</td>\n",
       "      <td>89.540758</td>\n",
       "      <td>56.077449</td>\n",
       "      <td>1</td>\n",
       "    </tr>\n",
       "    <tr>\n",
       "      <th>1049</th>\n",
       "      <td>39.114148</td>\n",
       "      <td>90.657831</td>\n",
       "      <td>108.195660</td>\n",
       "      <td>1</td>\n",
       "    </tr>\n",
       "    <tr>\n",
       "      <th>3167</th>\n",
       "      <td>38.602075</td>\n",
       "      <td>91.989587</td>\n",
       "      <td>53.350806</td>\n",
       "      <td>1</td>\n",
       "    </tr>\n",
       "    <tr>\n",
       "      <th>1550</th>\n",
       "      <td>38.513626</td>\n",
       "      <td>94.128301</td>\n",
       "      <td>92.465239</td>\n",
       "      <td>1</td>\n",
       "    </tr>\n",
       "    <tr>\n",
       "      <th>1128</th>\n",
       "      <td>38.539684</td>\n",
       "      <td>92.855472</td>\n",
       "      <td>63.494586</td>\n",
       "      <td>1</td>\n",
       "    </tr>\n",
       "  </tbody>\n",
       "</table>\n",
       "<p>158 rows × 4 columns</p>\n",
       "</div>"
      ],
      "text/plain": [
       "           Suhu  Saturasi_Oksigen  Detak_Jantung  Kategori\n",
       "3670  39.051390         94.504200      92.353403         1\n",
       "3185  39.134184         89.983161      98.513046         1\n",
       "4377  39.520234         93.513945      98.082064         1\n",
       "1441  39.153510         94.475251      64.860960         1\n",
       "3743  38.614083        100.516694      69.189183         1\n",
       "...         ...               ...            ...       ...\n",
       "2270  38.613372         89.540758      56.077449         1\n",
       "1049  39.114148         90.657831     108.195660         1\n",
       "3167  38.602075         91.989587      53.350806         1\n",
       "1550  38.513626         94.128301      92.465239         1\n",
       "1128  38.539684         92.855472      63.494586         1\n",
       "\n",
       "[158 rows x 4 columns]"
      ]
     },
     "execution_count": 220,
     "metadata": {},
     "output_type": "execute_result"
    }
   ],
   "source": [
    "testb[testb[\"Kategori\"]==1]"
   ]
  },
  {
   "cell_type": "code",
   "execution_count": 221,
   "metadata": {},
   "outputs": [],
   "source": [
    "df2= pd.read_csv(\"data_sintetis_kambing_timestamp5.csv\")"
   ]
  },
  {
   "cell_type": "code",
   "execution_count": 222,
   "metadata": {},
   "outputs": [
    {
     "data": {
      "text/html": [
       "<div>\n",
       "<style scoped>\n",
       "    .dataframe tbody tr th:only-of-type {\n",
       "        vertical-align: middle;\n",
       "    }\n",
       "\n",
       "    .dataframe tbody tr th {\n",
       "        vertical-align: top;\n",
       "    }\n",
       "\n",
       "    .dataframe thead th {\n",
       "        text-align: right;\n",
       "    }\n",
       "</style>\n",
       "<table border=\"1\" class=\"dataframe\">\n",
       "  <thead>\n",
       "    <tr style=\"text-align: right;\">\n",
       "      <th></th>\n",
       "      <th>Timestamp</th>\n",
       "      <th>Suhu</th>\n",
       "      <th>Saturasi_Oksigen</th>\n",
       "      <th>Detak_Jantung</th>\n",
       "    </tr>\n",
       "  </thead>\n",
       "  <tbody>\n",
       "    <tr>\n",
       "      <th>0</th>\n",
       "      <td>2024-01-27 12:22:33.670257</td>\n",
       "      <td>38.925003</td>\n",
       "      <td>90.484693</td>\n",
       "      <td>80.763157</td>\n",
       "    </tr>\n",
       "    <tr>\n",
       "      <th>1</th>\n",
       "      <td>2024-01-27 12:23:33.670257</td>\n",
       "      <td>38.345408</td>\n",
       "      <td>90.339940</td>\n",
       "      <td>82.898270</td>\n",
       "    </tr>\n",
       "    <tr>\n",
       "      <th>2</th>\n",
       "      <td>2024-01-27 12:24:33.670257</td>\n",
       "      <td>39.179836</td>\n",
       "      <td>87.229139</td>\n",
       "      <td>79.524867</td>\n",
       "    </tr>\n",
       "    <tr>\n",
       "      <th>3</th>\n",
       "      <td>2024-01-27 12:25:33.670257</td>\n",
       "      <td>40.496461</td>\n",
       "      <td>90.994123</td>\n",
       "      <td>85.765346</td>\n",
       "    </tr>\n",
       "    <tr>\n",
       "      <th>4</th>\n",
       "      <td>2024-01-27 12:26:33.670257</td>\n",
       "      <td>37.892238</td>\n",
       "      <td>87.386249</td>\n",
       "      <td>94.852775</td>\n",
       "    </tr>\n",
       "    <tr>\n",
       "      <th>...</th>\n",
       "      <td>...</td>\n",
       "      <td>...</td>\n",
       "      <td>...</td>\n",
       "      <td>...</td>\n",
       "    </tr>\n",
       "    <tr>\n",
       "      <th>4995</th>\n",
       "      <td>2024-01-30 23:37:33.677256</td>\n",
       "      <td>38.644949</td>\n",
       "      <td>89.439214</td>\n",
       "      <td>76.900572</td>\n",
       "    </tr>\n",
       "    <tr>\n",
       "      <th>4996</th>\n",
       "      <td>2024-01-30 23:38:33.677256</td>\n",
       "      <td>39.900094</td>\n",
       "      <td>88.425859</td>\n",
       "      <td>97.993869</td>\n",
       "    </tr>\n",
       "    <tr>\n",
       "      <th>4997</th>\n",
       "      <td>2024-01-30 23:39:33.677256</td>\n",
       "      <td>41.802087</td>\n",
       "      <td>91.582899</td>\n",
       "      <td>92.681354</td>\n",
       "    </tr>\n",
       "    <tr>\n",
       "      <th>4998</th>\n",
       "      <td>2024-01-30 23:40:33.677256</td>\n",
       "      <td>40.164801</td>\n",
       "      <td>91.495269</td>\n",
       "      <td>73.134166</td>\n",
       "    </tr>\n",
       "    <tr>\n",
       "      <th>4999</th>\n",
       "      <td>2024-01-30 23:41:33.677256</td>\n",
       "      <td>36.841975</td>\n",
       "      <td>90.353363</td>\n",
       "      <td>83.236851</td>\n",
       "    </tr>\n",
       "  </tbody>\n",
       "</table>\n",
       "<p>5000 rows × 4 columns</p>\n",
       "</div>"
      ],
      "text/plain": [
       "                       Timestamp       Suhu  Saturasi_Oksigen  Detak_Jantung\n",
       "0     2024-01-27 12:22:33.670257  38.925003         90.484693      80.763157\n",
       "1     2024-01-27 12:23:33.670257  38.345408         90.339940      82.898270\n",
       "2     2024-01-27 12:24:33.670257  39.179836         87.229139      79.524867\n",
       "3     2024-01-27 12:25:33.670257  40.496461         90.994123      85.765346\n",
       "4     2024-01-27 12:26:33.670257  37.892238         87.386249      94.852775\n",
       "...                          ...        ...               ...            ...\n",
       "4995  2024-01-30 23:37:33.677256  38.644949         89.439214      76.900572\n",
       "4996  2024-01-30 23:38:33.677256  39.900094         88.425859      97.993869\n",
       "4997  2024-01-30 23:39:33.677256  41.802087         91.582899      92.681354\n",
       "4998  2024-01-30 23:40:33.677256  40.164801         91.495269      73.134166\n",
       "4999  2024-01-30 23:41:33.677256  36.841975         90.353363      83.236851\n",
       "\n",
       "[5000 rows x 4 columns]"
      ]
     },
     "execution_count": 222,
     "metadata": {},
     "output_type": "execute_result"
    }
   ],
   "source": [
    "df2"
   ]
  },
  {
   "cell_type": "code",
   "execution_count": 223,
   "metadata": {},
   "outputs": [],
   "source": [
    "df2.drop(columns=\"Timestamp\",inplace=True)"
   ]
  },
  {
   "cell_type": "code",
   "execution_count": 224,
   "metadata": {},
   "outputs": [
    {
     "data": {
      "text/html": [
       "<div>\n",
       "<style scoped>\n",
       "    .dataframe tbody tr th:only-of-type {\n",
       "        vertical-align: middle;\n",
       "    }\n",
       "\n",
       "    .dataframe tbody tr th {\n",
       "        vertical-align: top;\n",
       "    }\n",
       "\n",
       "    .dataframe thead th {\n",
       "        text-align: right;\n",
       "    }\n",
       "</style>\n",
       "<table border=\"1\" class=\"dataframe\">\n",
       "  <thead>\n",
       "    <tr style=\"text-align: right;\">\n",
       "      <th></th>\n",
       "      <th>Suhu</th>\n",
       "      <th>Saturasi_Oksigen</th>\n",
       "      <th>Detak_Jantung</th>\n",
       "    </tr>\n",
       "  </thead>\n",
       "  <tbody>\n",
       "    <tr>\n",
       "      <th>0</th>\n",
       "      <td>38.925003</td>\n",
       "      <td>90.484693</td>\n",
       "      <td>80.763157</td>\n",
       "    </tr>\n",
       "    <tr>\n",
       "      <th>1</th>\n",
       "      <td>38.345408</td>\n",
       "      <td>90.339940</td>\n",
       "      <td>82.898270</td>\n",
       "    </tr>\n",
       "    <tr>\n",
       "      <th>2</th>\n",
       "      <td>39.179836</td>\n",
       "      <td>87.229139</td>\n",
       "      <td>79.524867</td>\n",
       "    </tr>\n",
       "    <tr>\n",
       "      <th>3</th>\n",
       "      <td>40.496461</td>\n",
       "      <td>90.994123</td>\n",
       "      <td>85.765346</td>\n",
       "    </tr>\n",
       "    <tr>\n",
       "      <th>4</th>\n",
       "      <td>37.892238</td>\n",
       "      <td>87.386249</td>\n",
       "      <td>94.852775</td>\n",
       "    </tr>\n",
       "    <tr>\n",
       "      <th>...</th>\n",
       "      <td>...</td>\n",
       "      <td>...</td>\n",
       "      <td>...</td>\n",
       "    </tr>\n",
       "    <tr>\n",
       "      <th>4995</th>\n",
       "      <td>38.644949</td>\n",
       "      <td>89.439214</td>\n",
       "      <td>76.900572</td>\n",
       "    </tr>\n",
       "    <tr>\n",
       "      <th>4996</th>\n",
       "      <td>39.900094</td>\n",
       "      <td>88.425859</td>\n",
       "      <td>97.993869</td>\n",
       "    </tr>\n",
       "    <tr>\n",
       "      <th>4997</th>\n",
       "      <td>41.802087</td>\n",
       "      <td>91.582899</td>\n",
       "      <td>92.681354</td>\n",
       "    </tr>\n",
       "    <tr>\n",
       "      <th>4998</th>\n",
       "      <td>40.164801</td>\n",
       "      <td>91.495269</td>\n",
       "      <td>73.134166</td>\n",
       "    </tr>\n",
       "    <tr>\n",
       "      <th>4999</th>\n",
       "      <td>36.841975</td>\n",
       "      <td>90.353363</td>\n",
       "      <td>83.236851</td>\n",
       "    </tr>\n",
       "  </tbody>\n",
       "</table>\n",
       "<p>5000 rows × 3 columns</p>\n",
       "</div>"
      ],
      "text/plain": [
       "           Suhu  Saturasi_Oksigen  Detak_Jantung\n",
       "0     38.925003         90.484693      80.763157\n",
       "1     38.345408         90.339940      82.898270\n",
       "2     39.179836         87.229139      79.524867\n",
       "3     40.496461         90.994123      85.765346\n",
       "4     37.892238         87.386249      94.852775\n",
       "...         ...               ...            ...\n",
       "4995  38.644949         89.439214      76.900572\n",
       "4996  39.900094         88.425859      97.993869\n",
       "4997  41.802087         91.582899      92.681354\n",
       "4998  40.164801         91.495269      73.134166\n",
       "4999  36.841975         90.353363      83.236851\n",
       "\n",
       "[5000 rows x 3 columns]"
      ]
     },
     "execution_count": 224,
     "metadata": {},
     "output_type": "execute_result"
    }
   ],
   "source": [
    "df2"
   ]
  },
  {
   "cell_type": "code",
   "execution_count": 225,
   "metadata": {},
   "outputs": [],
   "source": [
    "kat = model.predict(df2)"
   ]
  },
  {
   "cell_type": "code",
   "execution_count": 226,
   "metadata": {},
   "outputs": [],
   "source": [
    "df2['Kategori'] = kat"
   ]
  },
  {
   "cell_type": "code",
   "execution_count": 227,
   "metadata": {},
   "outputs": [
    {
     "data": {
      "text/html": [
       "<div>\n",
       "<style scoped>\n",
       "    .dataframe tbody tr th:only-of-type {\n",
       "        vertical-align: middle;\n",
       "    }\n",
       "\n",
       "    .dataframe tbody tr th {\n",
       "        vertical-align: top;\n",
       "    }\n",
       "\n",
       "    .dataframe thead th {\n",
       "        text-align: right;\n",
       "    }\n",
       "</style>\n",
       "<table border=\"1\" class=\"dataframe\">\n",
       "  <thead>\n",
       "    <tr style=\"text-align: right;\">\n",
       "      <th></th>\n",
       "      <th>Suhu</th>\n",
       "      <th>Saturasi_Oksigen</th>\n",
       "      <th>Detak_Jantung</th>\n",
       "      <th>Kategori</th>\n",
       "    </tr>\n",
       "  </thead>\n",
       "  <tbody>\n",
       "    <tr>\n",
       "      <th>0</th>\n",
       "      <td>38.925003</td>\n",
       "      <td>90.484693</td>\n",
       "      <td>80.763157</td>\n",
       "      <td>2</td>\n",
       "    </tr>\n",
       "    <tr>\n",
       "      <th>1</th>\n",
       "      <td>38.345408</td>\n",
       "      <td>90.339940</td>\n",
       "      <td>82.898270</td>\n",
       "      <td>5</td>\n",
       "    </tr>\n",
       "    <tr>\n",
       "      <th>2</th>\n",
       "      <td>39.179836</td>\n",
       "      <td>87.229139</td>\n",
       "      <td>79.524867</td>\n",
       "      <td>2</td>\n",
       "    </tr>\n",
       "    <tr>\n",
       "      <th>3</th>\n",
       "      <td>40.496461</td>\n",
       "      <td>90.994123</td>\n",
       "      <td>85.765346</td>\n",
       "      <td>5</td>\n",
       "    </tr>\n",
       "    <tr>\n",
       "      <th>4</th>\n",
       "      <td>37.892238</td>\n",
       "      <td>87.386249</td>\n",
       "      <td>94.852775</td>\n",
       "      <td>7</td>\n",
       "    </tr>\n",
       "    <tr>\n",
       "      <th>...</th>\n",
       "      <td>...</td>\n",
       "      <td>...</td>\n",
       "      <td>...</td>\n",
       "      <td>...</td>\n",
       "    </tr>\n",
       "    <tr>\n",
       "      <th>4995</th>\n",
       "      <td>38.644949</td>\n",
       "      <td>89.439214</td>\n",
       "      <td>76.900572</td>\n",
       "      <td>2</td>\n",
       "    </tr>\n",
       "    <tr>\n",
       "      <th>4996</th>\n",
       "      <td>39.900094</td>\n",
       "      <td>88.425859</td>\n",
       "      <td>97.993869</td>\n",
       "      <td>1</td>\n",
       "    </tr>\n",
       "    <tr>\n",
       "      <th>4997</th>\n",
       "      <td>41.802087</td>\n",
       "      <td>91.582899</td>\n",
       "      <td>92.681354</td>\n",
       "      <td>1</td>\n",
       "    </tr>\n",
       "    <tr>\n",
       "      <th>4998</th>\n",
       "      <td>40.164801</td>\n",
       "      <td>91.495269</td>\n",
       "      <td>73.134166</td>\n",
       "      <td>5</td>\n",
       "    </tr>\n",
       "    <tr>\n",
       "      <th>4999</th>\n",
       "      <td>36.841975</td>\n",
       "      <td>90.353363</td>\n",
       "      <td>83.236851</td>\n",
       "      <td>5</td>\n",
       "    </tr>\n",
       "  </tbody>\n",
       "</table>\n",
       "<p>5000 rows × 4 columns</p>\n",
       "</div>"
      ],
      "text/plain": [
       "           Suhu  Saturasi_Oksigen  Detak_Jantung  Kategori\n",
       "0     38.925003         90.484693      80.763157         2\n",
       "1     38.345408         90.339940      82.898270         5\n",
       "2     39.179836         87.229139      79.524867         2\n",
       "3     40.496461         90.994123      85.765346         5\n",
       "4     37.892238         87.386249      94.852775         7\n",
       "...         ...               ...            ...       ...\n",
       "4995  38.644949         89.439214      76.900572         2\n",
       "4996  39.900094         88.425859      97.993869         1\n",
       "4997  41.802087         91.582899      92.681354         1\n",
       "4998  40.164801         91.495269      73.134166         5\n",
       "4999  36.841975         90.353363      83.236851         5\n",
       "\n",
       "[5000 rows x 4 columns]"
      ]
     },
     "execution_count": 227,
     "metadata": {},
     "output_type": "execute_result"
    }
   ],
   "source": [
    "df2"
   ]
  },
  {
   "cell_type": "markdown",
   "metadata": {},
   "source": [
    "0 = Detak jantung dan saturasi oksigen tidak normal > 1\n",
    "\n",
    "1 = Saturasi oksigen tidak normal > 2\n",
    "\n",
    "2 = Suhu dan saturasi oksigen tidak normal > 5\n",
    "\n",
    "3 = Suhu tidak normal > 6\n",
    "\n",
    "4 = Sehat > 3\n",
    "\n",
    "5 = Detak Jantung tidak normal > 0\n",
    "\n",
    "6 = Suhu,detak jantung, dan saturasi oksigen tidak normal > 7\n",
    "\n",
    "7 = Suhu dan detak jantung tidak normal > 4"
   ]
  },
  {
   "cell_type": "code",
   "execution_count": 228,
   "metadata": {},
   "outputs": [],
   "source": [
    "keterangan_mapping = {\n",
    "    1 : 'Detak jantung dan saturasi oksigen tidak normal',\n",
    "    2 : 'Saturasi oksigen tidak normal',\n",
    "    5 : 'Suhu dan saturasi oksigen tidak normal',\n",
    "    6 : 'Suhu tidak normal',\n",
    "    3 : 'Sehat',\n",
    "    0 : 'Detak Jantung tidak normal',\n",
    "    7 : 'Suhu,detak jantung, dan saturasi oksigen tidak normal',\n",
    "    4 : 'Suhu dan detak jantung tidak normal'\n",
    "}"
   ]
  },
  {
   "cell_type": "code",
   "execution_count": 229,
   "metadata": {},
   "outputs": [],
   "source": [
    "df2['Kategori'] = df2['Kategori'].map(keterangan_mapping)"
   ]
  },
  {
   "cell_type": "code",
   "execution_count": 230,
   "metadata": {},
   "outputs": [
    {
     "data": {
      "text/html": [
       "<div>\n",
       "<style scoped>\n",
       "    .dataframe tbody tr th:only-of-type {\n",
       "        vertical-align: middle;\n",
       "    }\n",
       "\n",
       "    .dataframe tbody tr th {\n",
       "        vertical-align: top;\n",
       "    }\n",
       "\n",
       "    .dataframe thead th {\n",
       "        text-align: right;\n",
       "    }\n",
       "</style>\n",
       "<table border=\"1\" class=\"dataframe\">\n",
       "  <thead>\n",
       "    <tr style=\"text-align: right;\">\n",
       "      <th></th>\n",
       "      <th>Suhu</th>\n",
       "      <th>Saturasi_Oksigen</th>\n",
       "      <th>Detak_Jantung</th>\n",
       "      <th>Kategori</th>\n",
       "    </tr>\n",
       "  </thead>\n",
       "  <tbody>\n",
       "    <tr>\n",
       "      <th>0</th>\n",
       "      <td>38.925003</td>\n",
       "      <td>90.484693</td>\n",
       "      <td>80.763157</td>\n",
       "      <td>Saturasi oksigen tidak normal</td>\n",
       "    </tr>\n",
       "    <tr>\n",
       "      <th>1</th>\n",
       "      <td>38.345408</td>\n",
       "      <td>90.339940</td>\n",
       "      <td>82.898270</td>\n",
       "      <td>Suhu dan saturasi oksigen tidak normal</td>\n",
       "    </tr>\n",
       "    <tr>\n",
       "      <th>2</th>\n",
       "      <td>39.179836</td>\n",
       "      <td>87.229139</td>\n",
       "      <td>79.524867</td>\n",
       "      <td>Saturasi oksigen tidak normal</td>\n",
       "    </tr>\n",
       "    <tr>\n",
       "      <th>3</th>\n",
       "      <td>40.496461</td>\n",
       "      <td>90.994123</td>\n",
       "      <td>85.765346</td>\n",
       "      <td>Suhu dan saturasi oksigen tidak normal</td>\n",
       "    </tr>\n",
       "    <tr>\n",
       "      <th>4</th>\n",
       "      <td>37.892238</td>\n",
       "      <td>87.386249</td>\n",
       "      <td>94.852775</td>\n",
       "      <td>Suhu,detak jantung, dan saturasi oksigen tidak...</td>\n",
       "    </tr>\n",
       "    <tr>\n",
       "      <th>...</th>\n",
       "      <td>...</td>\n",
       "      <td>...</td>\n",
       "      <td>...</td>\n",
       "      <td>...</td>\n",
       "    </tr>\n",
       "    <tr>\n",
       "      <th>4995</th>\n",
       "      <td>38.644949</td>\n",
       "      <td>89.439214</td>\n",
       "      <td>76.900572</td>\n",
       "      <td>Saturasi oksigen tidak normal</td>\n",
       "    </tr>\n",
       "    <tr>\n",
       "      <th>4996</th>\n",
       "      <td>39.900094</td>\n",
       "      <td>88.425859</td>\n",
       "      <td>97.993869</td>\n",
       "      <td>Detak jantung dan saturasi oksigen tidak normal</td>\n",
       "    </tr>\n",
       "    <tr>\n",
       "      <th>4997</th>\n",
       "      <td>41.802087</td>\n",
       "      <td>91.582899</td>\n",
       "      <td>92.681354</td>\n",
       "      <td>Detak jantung dan saturasi oksigen tidak normal</td>\n",
       "    </tr>\n",
       "    <tr>\n",
       "      <th>4998</th>\n",
       "      <td>40.164801</td>\n",
       "      <td>91.495269</td>\n",
       "      <td>73.134166</td>\n",
       "      <td>Suhu dan saturasi oksigen tidak normal</td>\n",
       "    </tr>\n",
       "    <tr>\n",
       "      <th>4999</th>\n",
       "      <td>36.841975</td>\n",
       "      <td>90.353363</td>\n",
       "      <td>83.236851</td>\n",
       "      <td>Suhu dan saturasi oksigen tidak normal</td>\n",
       "    </tr>\n",
       "  </tbody>\n",
       "</table>\n",
       "<p>5000 rows × 4 columns</p>\n",
       "</div>"
      ],
      "text/plain": [
       "           Suhu  Saturasi_Oksigen  Detak_Jantung   \n",
       "0     38.925003         90.484693      80.763157  \\\n",
       "1     38.345408         90.339940      82.898270   \n",
       "2     39.179836         87.229139      79.524867   \n",
       "3     40.496461         90.994123      85.765346   \n",
       "4     37.892238         87.386249      94.852775   \n",
       "...         ...               ...            ...   \n",
       "4995  38.644949         89.439214      76.900572   \n",
       "4996  39.900094         88.425859      97.993869   \n",
       "4997  41.802087         91.582899      92.681354   \n",
       "4998  40.164801         91.495269      73.134166   \n",
       "4999  36.841975         90.353363      83.236851   \n",
       "\n",
       "                                               Kategori  \n",
       "0                         Saturasi oksigen tidak normal  \n",
       "1                Suhu dan saturasi oksigen tidak normal  \n",
       "2                         Saturasi oksigen tidak normal  \n",
       "3                Suhu dan saturasi oksigen tidak normal  \n",
       "4     Suhu,detak jantung, dan saturasi oksigen tidak...  \n",
       "...                                                 ...  \n",
       "4995                      Saturasi oksigen tidak normal  \n",
       "4996    Detak jantung dan saturasi oksigen tidak normal  \n",
       "4997    Detak jantung dan saturasi oksigen tidak normal  \n",
       "4998             Suhu dan saturasi oksigen tidak normal  \n",
       "4999             Suhu dan saturasi oksigen tidak normal  \n",
       "\n",
       "[5000 rows x 4 columns]"
      ]
     },
     "execution_count": 230,
     "metadata": {},
     "output_type": "execute_result"
    }
   ],
   "source": [
    "df2"
   ]
  },
  {
   "cell_type": "code",
   "execution_count": 231,
   "metadata": {},
   "outputs": [],
   "source": [
    "savemodel = model  "
   ]
  },
  {
   "cell_type": "code",
   "execution_count": 236,
   "metadata": {},
   "outputs": [
    {
     "ename": "AttributeError",
     "evalue": "module 'tensorflow' has no attribute 'keras'",
     "output_type": "error",
     "traceback": [
      "\u001b[1;31m---------------------------------------------------------------------------\u001b[0m",
      "\u001b[1;31mAttributeError\u001b[0m                            Traceback (most recent call last)",
      "Cell \u001b[1;32mIn[236], line 1\u001b[0m\n\u001b[1;32m----> 1\u001b[0m savemodel \u001b[38;5;241m=\u001b[39m \u001b[43mtf\u001b[49m\u001b[38;5;241;43m.\u001b[39;49m\u001b[43mkeras\u001b[49m\u001b[38;5;241m.\u001b[39mmodels\u001b[38;5;241m.\u001b[39mload_model(\u001b[38;5;124m'\u001b[39m\u001b[38;5;124mmy_model.h5\u001b[39m\u001b[38;5;124m'\u001b[39m)\n",
      "\u001b[1;31mAttributeError\u001b[0m: module 'tensorflow' has no attribute 'keras'"
     ]
    }
   ],
   "source": [
    "savemodel = tf.keras.models.load_model('my_model.h5')\n"
   ]
  },
  {
   "cell_type": "code",
   "execution_count": null,
   "metadata": {},
   "outputs": [],
   "source": []
  },
  {
   "cell_type": "code",
   "execution_count": null,
   "metadata": {},
   "outputs": [],
   "source": []
  }
 ],
 "metadata": {
  "kernelspec": {
   "display_name": "Python 3",
   "language": "python",
   "name": "python3"
  },
  "language_info": {
   "codemirror_mode": {
    "name": "ipython",
    "version": 3
   },
   "file_extension": ".py",
   "mimetype": "text/x-python",
   "name": "python",
   "nbconvert_exporter": "python",
   "pygments_lexer": "ipython3",
   "version": "3.9.13"
  }
 },
 "nbformat": 4,
 "nbformat_minor": 2
}
